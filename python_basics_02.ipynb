{
 "cells": [
  {
   "cell_type": "code",
   "execution_count": 1,
   "id": "4437a9bd-6013-494f-9576-324137c602df",
   "metadata": {},
   "outputs": [],
   "source": [
    "name = \"RajuRaju\""
   ]
  },
  {
   "cell_type": "code",
   "execution_count": 2,
   "id": "a0a44554-51c7-4749-8fa8-dacb8fe51540",
   "metadata": {},
   "outputs": [
    {
     "data": {
      "text/plain": [
       "'RajuRaju'"
      ]
     },
     "execution_count": 2,
     "metadata": {},
     "output_type": "execute_result"
    }
   ],
   "source": [
    "name"
   ]
  },
  {
   "cell_type": "code",
   "execution_count": 3,
   "id": "884580bd-7c95-4e24-9e98-b80833d633dd",
   "metadata": {},
   "outputs": [
    {
     "data": {
      "text/plain": [
       "'RAJURAJU'"
      ]
     },
     "execution_count": 3,
     "metadata": {},
     "output_type": "execute_result"
    }
   ],
   "source": [
    "name.upper()"
   ]
  },
  {
   "cell_type": "code",
   "execution_count": 4,
   "id": "b12441ce-4a9c-462a-980b-e2f4bc8e250a",
   "metadata": {},
   "outputs": [
    {
     "data": {
      "text/plain": [
       "True"
      ]
     },
     "execution_count": 4,
     "metadata": {},
     "output_type": "execute_result"
    }
   ],
   "source": [
    "name.endswith(\"ju\")"
   ]
  },
  {
   "cell_type": "code",
   "execution_count": 5,
   "id": "c4366674-b46f-42bc-88c7-5d336fce01f6",
   "metadata": {},
   "outputs": [
    {
     "data": {
      "text/plain": [
       "False"
      ]
     },
     "execution_count": 5,
     "metadata": {},
     "output_type": "execute_result"
    }
   ],
   "source": [
    "name.endswith(\"tom\")"
   ]
  },
  {
   "cell_type": "code",
   "execution_count": 6,
   "id": "7f1ad38d-0999-4204-a7ac-1fde4956cbeb",
   "metadata": {},
   "outputs": [
    {
     "data": {
      "text/plain": [
       "'rajuraju'"
      ]
     },
     "execution_count": 6,
     "metadata": {},
     "output_type": "execute_result"
    }
   ],
   "source": [
    "name.lower()"
   ]
  },
  {
   "cell_type": "code",
   "execution_count": 7,
   "id": "c326164f-f0bd-47d0-9d71-b0bfa04af007",
   "metadata": {},
   "outputs": [
    {
     "data": {
      "text/plain": [
       "2"
      ]
     },
     "execution_count": 7,
     "metadata": {},
     "output_type": "execute_result"
    }
   ],
   "source": [
    "name.count(\"a\")"
   ]
  },
  {
   "cell_type": "code",
   "execution_count": 8,
   "id": "44950874-d213-4f48-808d-29fe3d24dc60",
   "metadata": {},
   "outputs": [
    {
     "data": {
      "text/plain": [
       "2"
      ]
     },
     "execution_count": 8,
     "metadata": {},
     "output_type": "execute_result"
    }
   ],
   "source": [
    "name.count(\"j\")"
   ]
  },
  {
   "cell_type": "code",
   "execution_count": null,
   "id": "e5cbff9a-0348-492f-b06d-d0b2d183d65c",
   "metadata": {},
   "outputs": [],
   "source": []
  }
 ],
 "metadata": {
  "kernelspec": {
   "display_name": "Python 3 (ipykernel)",
   "language": "python",
   "name": "python3"
  },
  "language_info": {
   "codemirror_mode": {
    "name": "ipython",
    "version": 3
   },
   "file_extension": ".py",
   "mimetype": "text/x-python",
   "name": "python",
   "nbconvert_exporter": "python",
   "pygments_lexer": "ipython3",
   "version": "3.11.7"
  }
 },
 "nbformat": 4,
 "nbformat_minor": 5
}
