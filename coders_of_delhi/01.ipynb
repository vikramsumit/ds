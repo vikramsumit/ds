{
 "cells": [
  {
   "cell_type": "code",
   "execution_count": 1,
   "id": "f37d9da8-e23e-4a7a-964f-eabc262a8fcc",
   "metadata": {},
   "outputs": [],
   "source": [
    "import json"
   ]
  },
  {
   "cell_type": "code",
   "execution_count": 2,
   "id": "b39f040b-3a15-4b5f-a6c0-b6e7abb5f77d",
   "metadata": {},
   "outputs": [],
   "source": [
    "# function to load data\n",
    "def load_data(filename):\n",
    "    with open(filename, \"r\")as f:\n",
    "        data = json.load(f)\n",
    "    return data"
   ]
  },
  {
   "cell_type": "code",
   "execution_count": 3,
   "id": "45075201-118f-41ac-9e06-abd0da955e7e",
   "metadata": {},
   "outputs": [],
   "source": [
    "data = load_data(\"data.json\")"
   ]
  },
  {
   "cell_type": "code",
   "execution_count": 7,
   "id": "c3c1e4b6-c507-4851-9b46-2775aba4e9f9",
   "metadata": {},
   "outputs": [
    {
     "data": {
      "text/plain": [
       "{'users': [{'id': 1, 'name': 'Amit', 'friends': [2, 3], 'liked_pages': [101]},\n",
       "  {'id': 2, 'name': 'Priya', 'friends': [1, 4], 'liked_pages': [102]},\n",
       "  {'id': 3, 'name': 'Rahul', 'friends': [1], 'liked_pages': [101, 103]},\n",
       "  {'id': 4, 'name': 'Sara', 'friends': [2], 'liked_pages': [104]}],\n",
       " 'pages': [{'id': 101, 'name': 'Python Developers'},\n",
       "  {'id': 102, 'name': 'Data Science Enthusiasts'},\n",
       "  {'id': 103, 'name': 'AI & ML Community'},\n",
       "  {'id': 104, 'name': 'Web Dev Hub'}]}"
      ]
     },
     "execution_count": 7,
     "metadata": {},
     "output_type": "execute_result"
    }
   ],
   "source": [
    "data"
   ]
  },
  {
   "cell_type": "code",
   "execution_count": null,
   "id": "3d02c42c-be0e-462c-912e-f4f055238a7e",
   "metadata": {},
   "outputs": [
    {
     "data": {
      "text/plain": [
       "dict"
      ]
     },
     "execution_count": 8,
     "metadata": {},
     "output_type": "execute_result"
    }
   ],
   "source": [
    "# type(data)"
   ]
  },
  {
   "cell_type": "code",
   "execution_count": 23,
   "id": "33c7e8c2-893f-4c12-a2bf-c24117468ae6",
   "metadata": {},
   "outputs": [
    {
     "name": "stdout",
     "output_type": "stream",
     "text": [
      "users and their connections:\n",
      "ID:1 - Amit is friend with: Amit and liked pages are [101]\n",
      "ID:2 - Priya is friend with: Priya and liked pages are [102]\n",
      "ID:3 - Rahul is friend with: Rahul and liked pages are [101, 103]\n",
      "ID:4 - Sara is friend with: Sara and liked pages are [104]\n",
      "\n",
      "pages information:\n",
      "101 :Python Developers\n",
      "102 :Data Science Enthusiasts\n",
      "103 :AI & ML Community\n",
      "104 :Web Dev Hub\n",
      "\n",
      "name of all users:\n",
      "1   :Amit\n",
      "2   :Priya\n",
      "3   :Rahul\n",
      "4   :Sara\n"
     ]
    }
   ],
   "source": [
    "def display_users(data):\n",
    "    print(\"users and their connections:\")\n",
    "    for user in data ['users']:\n",
    "        print(f\"ID:{user['id']} - {user['name']} is friend with: {user['name']} and liked pages are {user['liked_pages']}\")\n",
    "    print(\"\\npages information:\") \n",
    "    for page in data ['pages']:\n",
    "        print(f\"{page['id']} :{page['name']}\")\n",
    "    print(\"\\nname of all users:\") \n",
    "    for name in data ['users']:\n",
    "        print(f\"{name['id']}   :{name['name']}\")\n",
    "display_users(data)"
   ]
  },
  {
   "cell_type": "code",
   "execution_count": null,
   "id": "fd0da4d7-db1b-4c62-b776-98bd6af327c1",
   "metadata": {},
   "outputs": [],
   "source": []
  }
 ],
 "metadata": {
  "kernelspec": {
   "display_name": "Python 3 (ipykernel)",
   "language": "python",
   "name": "python3"
  },
  "language_info": {
   "codemirror_mode": {
    "name": "ipython",
    "version": 3
   },
   "file_extension": ".py",
   "mimetype": "text/x-python",
   "name": "python",
   "nbconvert_exporter": "python",
   "pygments_lexer": "ipython3",
   "version": "3.11.7"
  }
 },
 "nbformat": 4,
 "nbformat_minor": 5
}
