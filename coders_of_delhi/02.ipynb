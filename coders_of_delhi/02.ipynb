{
 "cells": [
  {
   "cell_type": "code",
   "execution_count": 1,
   "id": "a47800ac-f494-4e53-9ad9-2f60bb9a72ff",
   "metadata": {},
   "outputs": [],
   "source": [
    "# def load_data(filename):\n",
    "#     with open(filename, \"r\")as f:\n",
    "#         data = json.load(f)\n",
    "#     return data\n",
    "    \n",
    "# data = load_data(\"data2.json\")\n",
    "# data"
   ]
  },
  {
   "cell_type": "code",
   "execution_count": 8,
   "id": "505ceb80-69a1-45d0-966c-b48cf98695fe",
   "metadata": {},
   "outputs": [
    {
     "name": "stdout",
     "output_type": "stream",
     "text": [
      "data has been cleaned successfully\n"
     ]
    }
   ],
   "source": [
    "import json\n",
    "\n",
    "def clean_data(data):\n",
    "    # Remove users wiht missing name\n",
    "    data[\"users\"] = [ user for user in data[\"users\"]if user[\"name\"].strip()]\n",
    "    # Remove duplicate friend\n",
    "    for user in data [\"users\"]:\n",
    "        user['friends'] = list(set(user['friends']))\n",
    "    # Remove inactive users\n",
    "    data[\"users\"] = \n",
    "        \n",
    "    return data\n",
    "\n",
    "# Load the data\n",
    "data = json.load(open(\"data2.json\"))\n",
    "data = clean_data(data)\n",
    "json.dump(data, open(\"cleaned_data2.json\", \"w\"), indent = 4)\n",
    "print(\"data has been cleaned successfully\")"
   ]
  },
  {
   "cell_type": "code",
   "execution_count": null,
   "id": "a70861b7-3ad2-4a6d-9319-ed523e6835ab",
   "metadata": {},
   "outputs": [],
   "source": []
  }
 ],
 "metadata": {
  "kernelspec": {
   "display_name": "Python 3 (ipykernel)",
   "language": "python",
   "name": "python3"
  },
  "language_info": {
   "codemirror_mode": {
    "name": "ipython",
    "version": 3
   },
   "file_extension": ".py",
   "mimetype": "text/x-python",
   "name": "python",
   "nbconvert_exporter": "python",
   "pygments_lexer": "ipython3",
   "version": "3.11.7"
  }
 },
 "nbformat": 4,
 "nbformat_minor": 5
}
