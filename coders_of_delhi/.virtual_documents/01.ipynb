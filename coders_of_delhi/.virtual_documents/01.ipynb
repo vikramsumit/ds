import json


# function to load data
def load_data(filename):
    with open(filename, "r")as f:
        data = json.load(f)
    return data


data = load_data("data.json")


data


type(data)


def display_users(data):
    print("users and their connections:")
    for user in data ['users']:
        print(f"ID:{user['id']} - {user['name']} is friend with: {user['name']} and liked pages are {user['liked_pages']}")
    print("\npages information:") 
    for page in data ['pages']:
        print(f"{page['id']} :{page['name']}")
    print("\nname of all users:") 
    for name in data ['users']:
        print(f"{name['id']}   :{name['name']}")
display_users(data)



