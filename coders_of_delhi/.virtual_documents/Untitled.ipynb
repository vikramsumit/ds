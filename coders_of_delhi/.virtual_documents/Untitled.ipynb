import json


def load_data(filename):
    with open(filename, "r")as f:
        data = json.load(f)
    return data


data = load_data("data.json")


data



