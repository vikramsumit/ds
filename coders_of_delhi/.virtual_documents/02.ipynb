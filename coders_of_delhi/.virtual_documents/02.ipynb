import json

def clean_data(data):
    # Remove users wiht missing name
    data["users"] = [ user for user in data["users"]if user["name"].strip()]
    # Remove duplicate friend
    for user in data ["users"]:
        user['friends'] = list(set(user['friends']))
    # Remove inactive users
    data["users"] = [user for user in data["users"]if user['friends']or user['liked_pages']]
    # Remove duplicate pages
    unique_pages = {}
    for page in data["pages"]:
        unique_pages[page["id"]] = page
    data["pages"] = list(unique_pages.values())
        
    return data

# Load the data
data = json.load(open("data2.json"))
data = clean_data(data)
json.dump(data, open("cleaned_data2.json", "w"), indent = 4)
print("data has been cleaned successfully")



