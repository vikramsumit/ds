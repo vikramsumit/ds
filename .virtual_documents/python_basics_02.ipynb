name = "RajuRaju"


name


name.upper()


name.endswith("ju")


name.endswith("tom")


name.lower()


name.count("a")


name.count("j")



