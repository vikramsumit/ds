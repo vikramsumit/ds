a = 42


b = 10


a * b 



