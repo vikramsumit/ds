fruits = ["apple", "banana", "cherry"]

for fruit in fruits:
    print(fruit)


for i in range(8):
    print(i)  


count = 0
while count < 22:
    print(count)
    count += 1


for i in range(5):
    if i == 3:
        break  # Stops the loop at 3
    print(i)



