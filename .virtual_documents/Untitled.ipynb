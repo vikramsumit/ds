name = "Alice"
age = 25
print("My name is {} and I am {} years old.".format(name, age))


print("{0} is learning {1}".format("Alice", "Python"))  # Using positions
print("{name} is learning {language}".format(name="Alice", language="Python"))


name = "Alice"
age = 25
print(f"My name is {name} and I am {age} years old.")


a = 5
b = 10
print(f"Sum of {a} and {b} is {a + b}")


pi = 3.14159
print(f"Pi rounded to 2 decimal places: {pi:.2f}")


print(f"{'Python':<10}")  # Left-align
print(f"{'Python':>10}")  # Right-align
print(f"{'Python':^10}")  # Center-align



