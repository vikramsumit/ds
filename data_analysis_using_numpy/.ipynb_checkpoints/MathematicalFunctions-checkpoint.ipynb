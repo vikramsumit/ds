{
 "cells": [
  {
   "cell_type": "markdown",
   "id": "84c77587-5eb5-4f74-85c4-531c4535f599",
   "metadata": {},
   "source": [
    "# Built in Mathematical functions in Numpy\n",
    "Here are some common NumPy methods that are frequently used for statistical and mathematical operations:\n",
    "\n",
    "1. **`np.mean()`** – Compute the **mean** (average) of an array.\n",
    "   ```python\n",
    "   np.mean(arr)\n",
    "   ```\n",
    "\n",
    "2. **`np.std()`** – Compute the **standard deviation** of an array.\n",
    "   ```python\n",
    "   np.std(arr)\n",
    "   ```\n",
    "\n",
    "3. **`np.var()`** – Compute the **variance** of an array.\n",
    "   ```python\n",
    "   np.var(arr)\n",
    "   ```\n",
    "\n",
    "4. **`np.min()`** – Compute the **minimum** value of an array.\n",
    "   ```python\n",
    "   np.min(arr)\n",
    "   ```\n",
    "\n",
    "5. **`np.max()`** – Compute the **maximum** value of an array.\n",
    "   ```python\n",
    "   np.max(arr)\n",
    "   ```\n",
    "\n",
    "6. **`np.sum()`** – Compute the **sum** of all elements in an array.\n",
    "   ```python\n",
    "   np.sum(arr)\n",
    "   ```\n",
    "\n",
    "7. **`np.prod()`** – Compute the **product** of all elements in an array.\n",
    "   ```python\n",
    "   np.prod(arr)\n",
    "   ```\n",
    "\n",
    "8. **`np.median()`** – Compute the **median** of an array.\n",
    "   ```python\n",
    "   np.median(arr)\n",
    "   ```\n",
    "\n",
    "9. **`np.percentile()`** – Compute the **percentile** of an array.\n",
    "   ```python\n",
    "   np.percentile(arr, 50)  # For the 50th percentile (median)\n",
    "   ```\n",
    "\n",
    "10. **`np.argmin()`** – Return the **index of the minimum** value in an array.\n",
    "    ```python\n",
    "    np.argmin(arr)\n",
    "    ```\n",
    "\n",
    "11. **`np.argmax()`** – Return the **index of the maximum** value in an array.\n",
    "    ```python\n",
    "    np.argmax(arr)\n",
    "    ```\n",
    "\n",
    "12. **`np.corrcoef()`** – Compute the **correlation coefficient** matrix of two arrays.\n",
    "    ```python\n",
    "    np.corrcoef(arr1, arr2)\n",
    "    ```\n",
    "\n",
    "13. **`np.unique()`** – Find the **unique elements** of an array.\n",
    "    ```python\n",
    "    np.unique(arr)\n",
    "    ```\n",
    "\n",
    "14. **`np.diff()`** – Compute the **n-th differences** of an array.\n",
    "    ```python\n",
    "    np.diff(arr)\n",
    "    ```\n",
    "\n",
    "15. **`np.cumsum()`** – Compute the **cumulative sum** of an array.\n",
    "    ```python\n",
    "    np.cumsum(arr)\n",
    "    ```\n",
    "\n",
    "16. **`np.linspace()`** – Create an array with **evenly spaced numbers** over a specified interval.\n",
    "    ```python\n",
    "    np.linspace(0, 10, 5)  # 5 numbers from 0 to 10\n",
    "    ```\n",
    "\n",
    "17. **`np.log()`** – Compute the **natural logarithm** of an array.\n",
    "    ```python\n",
    "    np.log(arr)\n",
    "    ```\n",
    "\n",
    "18. **`np.exp()`** – Compute the **exponential** of an array.\n",
    "    ```python\n",
    "    np.exp(arr)\n",
    "    ```\n",
    "\n",
    "These methods are used for performing mathematical and statistical operations with NumPy"
   ]
  },
  {
   "cell_type": "code",
   "execution_count": 1,
   "id": "0d11834a-9685-47aa-a9c2-dc50e0e590d9",
   "metadata": {},
   "outputs": [],
   "source": [
    "import numpy as np"
   ]
  },
  {
   "cell_type": "code",
   "execution_count": 15,
   "id": "687fc043-d2fb-49e6-a495-fac1c788aa79",
   "metadata": {},
   "outputs": [],
   "source": [
    "arr = np.array([3, 5, 2, 33, 2, 1, 10, 1])"
   ]
  },
  {
   "cell_type": "code",
   "execution_count": 4,
   "id": "74a42523-0b6b-412d-82fe-f1e1607e31cc",
   "metadata": {},
   "outputs": [
    {
     "data": {
      "text/plain": [
       "33"
      ]
     },
     "execution_count": 4,
     "metadata": {},
     "output_type": "execute_result"
    }
   ],
   "source": [
    "np.mean(arr)"
   ]
  },
  {
   "cell_type": "code",
   "execution_count": 5,
   "id": "991a7050-e636-4217-9113-baa445145c90",
   "metadata": {},
   "outputs": [
    {
     "data": {
      "text/plain": [
       "2"
      ]
     },
     "execution_count": 5,
     "metadata": {},
     "output_type": "execute_result"
    }
   ],
   "source": [
    "np.min(arr)"
   ]
  },
  {
   "cell_type": "code",
   "execution_count": 6,
   "id": "33ed0552-cf93-4aff-ae2a-45af49876865",
   "metadata": {},
   "outputs": [
    {
     "data": {
      "text/plain": [
       "33"
      ]
     },
     "execution_count": 6,
     "metadata": {},
     "output_type": "execute_result"
    }
   ],
   "source": [
    "np.max(arr)"
   ]
  },
  {
   "cell_type": "code",
   "execution_count": 12,
   "id": "a20fb6b5-51cb-4211-9885-26b049b122e5",
   "metadata": {},
   "outputs": [
    {
     "data": {
      "text/plain": [
       "12.891373084353738"
      ]
     },
     "execution_count": 12,
     "metadata": {},
     "output_type": "execute_result"
    }
   ],
   "source": [
    "np.std(arr)"
   ]
  },
  {
   "cell_type": "code",
   "execution_count": 8,
   "id": "2421e62a-2037-497e-8ebb-480bf59f4014",
   "metadata": {},
   "outputs": [
    {
     "data": {
      "text/plain": [
       "166.1875"
      ]
     },
     "execution_count": 8,
     "metadata": {},
     "output_type": "execute_result"
    }
   ],
   "source": [
    "np.var(arr)"
   ]
  },
  {
   "cell_type": "code",
   "execution_count": 9,
   "id": "7cb6f03d-bee3-4eb2-9106-df07c8c8ae92",
   "metadata": {},
   "outputs": [
    {
     "data": {
      "text/plain": [
       "43"
      ]
     },
     "execution_count": 9,
     "metadata": {},
     "output_type": "execute_result"
    }
   ],
   "source": [
    "np.sum(arr)"
   ]
  },
  {
   "cell_type": "code",
   "execution_count": 10,
   "id": "0b041c71-86a4-44d7-ac0c-dc58bb03e3ef",
   "metadata": {},
   "outputs": [
    {
     "data": {
      "text/plain": [
       "990"
      ]
     },
     "execution_count": 10,
     "metadata": {},
     "output_type": "execute_result"
    }
   ],
   "source": [
    "np.prod(arr)"
   ]
  },
  {
   "cell_type": "code",
   "execution_count": 11,
   "id": "1d0bd0d1-47f9-43a4-98d9-13f6d27fb6ba",
   "metadata": {},
   "outputs": [
    {
     "data": {
      "text/plain": [
       "4.0"
      ]
     },
     "execution_count": 11,
     "metadata": {},
     "output_type": "execute_result"
    }
   ],
   "source": [
    "np.percentile(arr, 50) "
   ]
  },
  {
   "cell_type": "code",
   "execution_count": 13,
   "id": "deb76125-74ba-465f-9db7-df6d7806d41c",
   "metadata": {},
   "outputs": [
    {
     "data": {
      "text/plain": [
       "2"
      ]
     },
     "execution_count": 13,
     "metadata": {},
     "output_type": "execute_result"
    }
   ],
   "source": [
    "np.argmin(arr)"
   ]
  },
  {
   "cell_type": "code",
   "execution_count": 14,
   "id": "73e1dd85-6dec-4626-a7f1-ea4634441f47",
   "metadata": {},
   "outputs": [
    {
     "data": {
      "text/plain": [
       "3"
      ]
     },
     "execution_count": 14,
     "metadata": {},
     "output_type": "execute_result"
    }
   ],
   "source": [
    "np.argmax(arr)"
   ]
  },
  {
   "cell_type": "code",
   "execution_count": 17,
   "id": "b4789ce5-1678-43db-b524-1ab835bdfb45",
   "metadata": {},
   "outputs": [
    {
     "data": {
      "text/plain": [
       "array([ 1,  2,  3,  5, 10, 33])"
      ]
     },
     "execution_count": 17,
     "metadata": {},
     "output_type": "execute_result"
    }
   ],
   "source": [
    "np.unique(arr)"
   ]
  },
  {
   "cell_type": "code",
   "execution_count": 18,
   "id": "972beca1-b119-45e9-8d78-744f21a3804c",
   "metadata": {},
   "outputs": [
    {
     "data": {
      "text/plain": [
       "array([ 3,  8, 10, 43, 45, 46, 56, 57])"
      ]
     },
     "execution_count": 18,
     "metadata": {},
     "output_type": "execute_result"
    }
   ],
   "source": [
    "np.cumsum(arr)"
   ]
  },
  {
   "cell_type": "code",
   "execution_count": null,
   "id": "e724b876-fb5d-40d5-8e75-7bc695f5a62f",
   "metadata": {},
   "outputs": [],
   "source": []
  }
 ],
 "metadata": {
  "kernelspec": {
   "display_name": "Python [conda env:base] *",
   "language": "python",
   "name": "conda-base-py"
  },
  "language_info": {
   "codemirror_mode": {
    "name": "ipython",
    "version": 3
   },
   "file_extension": ".py",
   "mimetype": "text/x-python",
   "name": "python",
   "nbconvert_exporter": "python",
   "pygments_lexer": "ipython3",
   "version": "3.12.7"
  }
 },
 "nbformat": 4,
 "nbformat_minor": 5
}
