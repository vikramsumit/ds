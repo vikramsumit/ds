import numpy as np


arr = np.array([[1,2,3],[4,5,2],[3,6,3],[8,4,23],[324,12,1]])


print(arr)


flat = arr.flatten()
flat


print(flat[0])
print(flat[:6])
print(flat[3:7])
print(flat[::3])


# b = flat[3:9]
b = flat[3:9].copy()
b


b[2] = 345353
b


flat


arr = np.array([1,2,3,4,5,2,3,6,3,8,4,23,324,12,1])
arr[[3,6,12]]


arr[arr>5]



