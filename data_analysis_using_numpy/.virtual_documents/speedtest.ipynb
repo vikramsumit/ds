# using python lists
import numpy as np
import time

size = 1_000_0000

l1 = list(range(size))
l2 = list(range(size))

start= time.time()
add = [x + y for x,y in zip(l1,l2)]
end = time.time()
print(add[0:10])

print(end - start)


# using numpy array
import numpy as np
import time

size = 1_000_000

l1 = np.array(list(range(size)))
l2 = np.array(list(range(size)))

start= time.time()
add = l1 +l2
# add = [x + y for x,y in zip(l1,l2)]
end = time.time()
print(add[0:100])

print(end - start)


# Python zip explained
l1 = [3,5,2]
l2 = [4,54,2]
list(zip(l1,l2))


# Numpy only used in numerical value
np.array([1,2,3,12,4,1])
# a1 = np.array([1,2,3,12,4,1])
# type(a1)


arr = np.array([[3,1,4],[45,23,4]])
# a3 = np.array([[3,1,4],[45,23,4],[432,23,4]])
np.array([[3,1,4],[45,23,4],[432,23,4]])
type(a3)
# Numbers of element in all dimensions must be same


type(arr)
arr.shape


import sys

list_data = list(range(1000))
numpy_data = np.array(list_data)

print("Python list size:", sys.getsizeof(list_data) * len(list_data), "bytes")
print("NumPy array size:", numpy_data.nbytes, "bytes")


list1 = [4, 23, 4, 21]
arr1 = [5, 34, 21, 3]

# Python list (loop-based)
start = time.time()
list_squares = [x ** 2 for x in list1]
end = time.time()
print(end - start)

# NumPy (vectorized)
start = time.time()
# arr1_np = np.array(arr1)
numpy_squares = arr1_np ** 2
end = time.time()
print(end - start)

print("List squares:", list_squares)
print("NumPy squares:", numpy_squares)



print(2 ** 3 ** 2)


a = 30
b = 30
print(a is b)


numbers = [1,2,3,4]
print(numbers)
numbers[1:3] = [8,9,4,5,3,5] # REMOVES ITEMS AT INDEX 1&2 WITH (8,9,4,5,3,5)
print(numbers)


def weird(x = []):
    x.append(3)
    return x

print(weird())
print(weird())
print(weird())



