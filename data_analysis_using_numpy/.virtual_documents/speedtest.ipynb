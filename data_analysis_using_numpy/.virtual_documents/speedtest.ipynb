# using python lists
import numpy as np
import time

size = 1_000_0000

l1 = list(range(size))
l2 = list(range(size))

start= time.time()
add = [x + y for x,y in zip(l1,l2)]
end = time.time()
print(add[0:10])

print(end - start)


# using numpy array
import numpy as np
import time

size = 1_000_000

l1 = np.array(list(range(size)))
l2 = np.array(list(range(size)))

start= time.time()
add = l1 +l2
# add = [x + y for x,y in zip(l1,l2)]
end = time.time()
print(add[0:100])

print(end - start)


# Python zip explained
l1 = [3,5,2]
l2 = [4,54,2]
list(zip(l1,l2))


# Numpy only used in numerical value
np.array([1,2,3,12,4,1])
# a1 = np.array([1,2,3,12,4,1])
# type(a1)


arr = np.array([[3,1,4],[45,23,4]])
# a3 = np.array([[3,1,4],[45,23,4],[432,23,4]])
np.array([[3,1,4],[45,23,4],[432,23,4]])
type(a3)
# Numbers of element in all dimensions must be same


type(arr)
arr.shape


import sys

list_data = list(range(1000))
numpy_data = np.array(list_data)

print("Python list size:", sys.getsizeof(list_data) * len(list_data), "bytes")
print("NumPy array size:", numpy_data.nbytes, "bytes")


# Python list (loop-based)
list_squares = [x ** 2 for x in list1]

# NumPy (vectorized)
numpy_squares = arr1 ** 2



