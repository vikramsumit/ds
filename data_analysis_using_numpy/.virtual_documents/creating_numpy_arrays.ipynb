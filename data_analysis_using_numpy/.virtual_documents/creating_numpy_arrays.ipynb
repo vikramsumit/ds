import numpy as np


!pip install numpy


arr = np.array([4,2,4])
arr


np.zeros((5,6))


np.ones((4,2))


np.full((5,7),9)


np.eye(7)


# np.arange(300,30320,564)
np.arange(1,320,4)


np.linspace(5,342,8)


np.linspace(0,100,5)


myarr = np.array([[1,2,3],[4,5,2],[3,6,3],[8,4,23],[324,12,1]])


print(myarr.shape)


myarr.size


myarr.ndim


myarr.dtype


myarr = np.array([[1,2,3],[4,5,2],[3,6,3],[8,4,23],[324,12,1]], dtype = 'float128')
myarr


n = myarr.astype('float64')
n.dtype


myarr.dtype


myarr = np.array([[1,2,3],[4,5,2],[3,6,3],[8,4,23],[324,12,1]])


reshaped = myarr.reshape((3,5))


reshaped


myarr


myarr.flatten



