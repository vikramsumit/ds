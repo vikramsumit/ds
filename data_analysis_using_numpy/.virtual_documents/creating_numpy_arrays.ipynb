import numpy as np


!pip install numpy


arr = np.array([4,2,4])
arr


np.zeros((5,6))


np.ones((4,2))


np.full((5,7),9)


np.eye(7)



