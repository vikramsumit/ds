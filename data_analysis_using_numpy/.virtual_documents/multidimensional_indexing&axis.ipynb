import numpy as np
arr = np.array([[1, 2, 3], [4, 5, 6], [7, 8, 9]])


arr


arr[0]


np.sum(arr, axis = 1)


arr[0][1]


arr[0:2,0:3]


arr3D = np.array([[[1, 2, 3], [4, 5, 6]],
                  [[7, 8, 9], [10, 11, 12]]])

# Output of arr3D.shape is → (depth, rows, columns)
print(arr3D.shape)  # Output: (2, 2, 3) 


# First sheet, second row, third column
print(arr3D[0, 1, 2])  # Output: 6

print(arr3D[:, 0, :])   # Get the first row from both sheets



