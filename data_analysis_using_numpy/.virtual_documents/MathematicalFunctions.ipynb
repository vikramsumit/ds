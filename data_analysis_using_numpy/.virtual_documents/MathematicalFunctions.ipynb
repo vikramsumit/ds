


import numpy as np


arr = np.array([3, 5, 2, 33, 2, 1, 10, 1])


np.mean(arr)


np.min(arr)


np.max(arr)


np.std(arr)


np.var(arr)


np.sum(arr)


np.prod(arr)


np.percentile(arr, 50) 


np.argmin(arr)


np.argmax(arr)


np.unique(arr)


np.cumsum(arr)



