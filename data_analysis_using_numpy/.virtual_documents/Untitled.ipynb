import numpy as np
import time

size = 1_000_000

l1 = list(range(size))
l2 = list(range(size))

start= time.time()
add = [x + y for x,y in zip(l1,l2)]
end = time.time()

print(end - start)


l1 = [3,5,2]
l2 = [4,54,2]
list(zip(l1,l2))



