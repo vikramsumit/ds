# using python lists
import numpy as np
import time

size = 1_000_0000

l1 = list(range(size))
l2 = list(range(size))

start= time.time()
add = [x + y for x,y in zip(l1,l2)]
end = time.time()
print(add[0:10])

print(end - start)


# using numpy array
import numpy as np
import time

size = 1_000_000

l1 = np.array(list(range(size)))
l2 = np.array(list(range(size)))

start= time.time()
add = l1 +l2
# add = [x + y for x,y in zip(l1,l2)]
end = time.time()
print(add[0:100])

print(end - start)


l1 = [3,5,2]
l2 = [4,54,2]
list(zip(l1,l2))



