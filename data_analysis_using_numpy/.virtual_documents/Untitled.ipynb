import numpy as np
arr = np.array([[1,2,3],[4,5,2],[3,6,3],[8,4,23],[324,12,1]])


print(arr)


flat = arr.flatten()
flat



