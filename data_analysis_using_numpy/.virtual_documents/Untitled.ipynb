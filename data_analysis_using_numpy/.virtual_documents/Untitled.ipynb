import numpy as np





arr = np.array([4,2,4])


arr



