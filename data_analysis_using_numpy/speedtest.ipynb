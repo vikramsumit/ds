{
 "cells": [
  {
   "cell_type": "code",
   "execution_count": 1,
   "id": "101b2fc4-54de-4622-863a-17a41c319bd2",
   "metadata": {},
   "outputs": [
    {
     "name": "stdout",
     "output_type": "stream",
     "text": [
      "[0, 2, 4, 6, 8, 10, 12, 14, 16, 18]\n",
      "0.3789081573486328\n"
     ]
    }
   ],
   "source": [
    "# using python lists\n",
    "import numpy as np\n",
    "import time\n",
    "\n",
    "size = 1_000_0000\n",
    "\n",
    "l1 = list(range(size))\n",
    "l2 = list(range(size))\n",
    "\n",
    "start= time.time()\n",
    "add = [x + y for x,y in zip(l1,l2)]\n",
    "end = time.time()\n",
    "print(add[0:10])\n",
    "\n",
    "print(end - start)"
   ]
  },
  {
   "cell_type": "code",
   "execution_count": 3,
   "id": "69c7a178-1556-49ae-b37e-e103a515e91e",
   "metadata": {},
   "outputs": [
    {
     "name": "stdout",
     "output_type": "stream",
     "text": [
      "[  0   2   4   6   8  10  12  14  16  18  20  22  24  26  28  30  32  34\n",
      "  36  38  40  42  44  46  48  50  52  54  56  58  60  62  64  66  68  70\n",
      "  72  74  76  78  80  82  84  86  88  90  92  94  96  98 100 102 104 106\n",
      " 108 110 112 114 116 118 120 122 124 126 128 130 132 134 136 138 140 142\n",
      " 144 146 148 150 152 154 156 158 160 162 164 166 168 170 172 174 176 178\n",
      " 180 182 184 186 188 190 192 194 196 198]\n",
      "0.0021963119506835938\n"
     ]
    }
   ],
   "source": [
    "# using numpy array\n",
    "import numpy as np\n",
    "import time\n",
    "\n",
    "size = 1_000_000\n",
    "\n",
    "l1 = np.array(list(range(size)))\n",
    "l2 = np.array(list(range(size)))\n",
    "\n",
    "start= time.time()\n",
    "add = l1 +l2\n",
    "# add = [x + y for x,y in zip(l1,l2)]\n",
    "end = time.time()\n",
    "print(add[0:100])\n",
    "\n",
    "print(end - start)"
   ]
  },
  {
   "cell_type": "code",
   "execution_count": 7,
   "id": "c0335f29-ac28-4f9f-8201-9dc0bc94d0f8",
   "metadata": {},
   "outputs": [
    {
     "data": {
      "text/plain": [
       "[(3, 4), (5, 54), (2, 2)]"
      ]
     },
     "execution_count": 7,
     "metadata": {},
     "output_type": "execute_result"
    }
   ],
   "source": [
    "# Python zip explained\n",
    "l1 = [3,5,2]\n",
    "l2 = [4,54,2]\n",
    "list(zip(l1,l2))"
   ]
  },
  {
   "cell_type": "code",
   "execution_count": 20,
   "id": "c91d390e-8f65-4b1b-be3a-29ed5685c910",
   "metadata": {},
   "outputs": [
    {
     "data": {
      "text/plain": [
       "array([ 1,  2,  3, 12,  4,  1])"
      ]
     },
     "execution_count": 20,
     "metadata": {},
     "output_type": "execute_result"
    }
   ],
   "source": [
    "# Numpy only used in numerical value\n",
    "np.array([1,2,3,12,4,1])\n",
    "# a1 = np.array([1,2,3,12,4,1])\n",
    "# type(a1)"
   ]
  },
  {
   "cell_type": "code",
   "execution_count": 32,
   "id": "b00c1d56-5ef4-4239-8a9f-ab3db269fb40",
   "metadata": {},
   "outputs": [
    {
     "data": {
      "text/plain": [
       "numpy.ndarray"
      ]
     },
     "execution_count": 32,
     "metadata": {},
     "output_type": "execute_result"
    }
   ],
   "source": [
    "arr = np.array([[3,1,4],[45,23,4]])\n",
    "# a3 = np.array([[3,1,4],[45,23,4],[432,23,4]])\n",
    "np.array([[3,1,4],[45,23,4],[432,23,4]])\n",
    "type(a3)\n",
    "# Numbers of element in all dimensions must be same"
   ]
  },
  {
   "cell_type": "code",
   "execution_count": 34,
   "id": "896d737f-cfb6-4989-8249-857f6c25daf0",
   "metadata": {},
   "outputs": [
    {
     "data": {
      "text/plain": [
       "(2, 3)"
      ]
     },
     "execution_count": 34,
     "metadata": {},
     "output_type": "execute_result"
    }
   ],
   "source": [
    "type(arr)\n",
    "arr.shape"
   ]
  },
  {
   "cell_type": "code",
   "execution_count": 38,
   "id": "a0f59331-b46d-4b59-bc25-f8d59a0f8208",
   "metadata": {},
   "outputs": [
    {
     "name": "stdout",
     "output_type": "stream",
     "text": [
      "Python list size: 8056000 bytes\n",
      "NumPy array size: 8000 bytes\n"
     ]
    }
   ],
   "source": [
    "import sys\n",
    "\n",
    "list_data = list(range(1000))\n",
    "numpy_data = np.array(list_data)\n",
    "\n",
    "print(\"Python list size:\", sys.getsizeof(list_data) * len(list_data), \"bytes\")\n",
    "print(\"NumPy array size:\", numpy_data.nbytes, \"bytes\")"
   ]
  },
  {
   "cell_type": "code",
   "execution_count": 48,
   "id": "71ddadda-ae02-4f4a-8b0f-d6b95acb9029",
   "metadata": {},
   "outputs": [
    {
     "name": "stdout",
     "output_type": "stream",
     "text": [
      "0.00012826919555664062\n",
      "8.368492126464844e-05\n",
      "List squares: [16, 529, 16, 441]\n",
      "NumPy squares: [  25 1156  441    9]\n"
     ]
    }
   ],
   "source": [
    "list1 = [4, 23, 4, 21]\n",
    "arr1 = [5, 34, 21, 3]\n",
    "\n",
    "# Python list (loop-based)\n",
    "start = time.time()\n",
    "list_squares = [x ** 2 for x in list1]\n",
    "end = time.time()\n",
    "print(end - start)\n",
    "\n",
    "# NumPy (vectorized)\n",
    "start = time.time()\n",
    "# arr1_np = np.array(arr1)\n",
    "numpy_squares = arr1_np ** 2\n",
    "end = time.time()\n",
    "print(end - start)\n",
    "\n",
    "print(\"List squares:\", list_squares)\n",
    "print(\"NumPy squares:\", numpy_squares)\n"
   ]
  },
  {
   "cell_type": "code",
   "execution_count": 49,
   "id": "70e948b5-9393-4242-82f3-b3792658bca7",
   "metadata": {},
   "outputs": [
    {
     "name": "stdout",
     "output_type": "stream",
     "text": [
      "512\n"
     ]
    }
   ],
   "source": [
    "print(2 ** 3 ** 2)"
   ]
  },
  {
   "cell_type": "code",
   "execution_count": 50,
   "id": "8fd2bb1b-cdd1-4b31-8861-846a0b9aac0b",
   "metadata": {},
   "outputs": [
    {
     "name": "stdout",
     "output_type": "stream",
     "text": [
      "True\n"
     ]
    }
   ],
   "source": [
    "a = 30\n",
    "b = 30\n",
    "print(a is b)"
   ]
  },
  {
   "cell_type": "code",
   "execution_count": 58,
   "id": "83e7cb5d-5c6a-4ca1-8e68-76c1589c67e7",
   "metadata": {},
   "outputs": [
    {
     "name": "stdout",
     "output_type": "stream",
     "text": [
      "[1, 2, 3, 4]\n",
      "[1, 8, 9, 4, 5, 3, 5, 4]\n"
     ]
    }
   ],
   "source": [
    "numbers = [1,2,3,4]\n",
    "print(numbers)\n",
    "numbers[1:3] = [8,9,4,5,3,5] # REMOVES ITEMS AT INDEX 1&2 WITH (8,9,4,5,3,5)\n",
    "print(numbers)"
   ]
  },
  {
   "cell_type": "code",
   "execution_count": null,
   "id": "1d8036c1-4358-4955-8f97-0396f08d8626",
   "metadata": {},
   "outputs": [],
   "source": [
    "def weird(x = []):\n",
    "    x.append(3)\n",
    "    return x\n",
    "\n"
   ]
  }
 ],
 "metadata": {
  "kernelspec": {
   "display_name": "Python 3 (ipykernel)",
   "language": "python",
   "name": "python3"
  },
  "language_info": {
   "codemirror_mode": {
    "name": "ipython",
    "version": 3
   },
   "file_extension": ".py",
   "mimetype": "text/x-python",
   "name": "python",
   "nbconvert_exporter": "python",
   "pygments_lexer": "ipython3",
   "version": "3.12.7"
  }
 },
 "nbformat": 4,
 "nbformat_minor": 5
}
