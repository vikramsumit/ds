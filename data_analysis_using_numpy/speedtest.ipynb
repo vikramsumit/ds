{
 "cells": [
  {
   "cell_type": "code",
   "execution_count": null,
   "id": "101b2fc4-54de-4622-863a-17a41c319bd2",
   "metadata": {},
   "outputs": [],
   "source": [
    "import numpy as np\n",
    "import time\n",
    "\n",
    "size = 1_000_000\n",
    "\n",
    "l1 = list(range(size))\n",
    "l2 = list(range(size))\n",
    "\n",
    "start= time.time()\n",
    "add = [x + y for x,y in zip(l1,l2)]\n",
    "end = time.time()\n",
    "\n"
   ]
  },
  {
   "cell_type": "code",
   "execution_count": 2,
   "id": "c0335f29-ac28-4f9f-8201-9dc0bc94d0f8",
   "metadata": {},
   "outputs": [
    {
     "data": {
      "text/plain": [
       "[(3, 4), (5, 54), (2, 2)]"
      ]
     },
     "execution_count": 2,
     "metadata": {},
     "output_type": "execute_result"
    }
   ],
   "source": [
    "l1 = [3,5,2]\n",
    "l2 = [4,54,2]\n",
    "list(zip(l1,l2))"
   ]
  },
  {
   "cell_type": "code",
   "execution_count": null,
   "id": "c91d390e-8f65-4b1b-be3a-29ed5685c910",
   "metadata": {},
   "outputs": [],
   "source": []
  }
 ],
 "metadata": {
  "kernelspec": {
   "display_name": "Python 3 (ipykernel)",
   "language": "python",
   "name": "python3"
  },
  "language_info": {
   "codemirror_mode": {
    "name": "ipython",
    "version": 3
   },
   "file_extension": ".py",
   "mimetype": "text/x-python",
   "name": "python",
   "nbconvert_exporter": "python",
   "pygments_lexer": "ipython3",
   "version": "3.11.7"
  }
 },
 "nbformat": 4,
 "nbformat_minor": 5
}
