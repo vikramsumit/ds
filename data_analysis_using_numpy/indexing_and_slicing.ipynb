{
 "cells": [
  {
   "cell_type": "code",
   "execution_count": 1,
   "id": "641bffff-14e2-4e50-b69d-a29cbee225c5",
   "metadata": {},
   "outputs": [],
   "source": [
    "import numpy as np"
   ]
  },
  {
   "cell_type": "code",
   "execution_count": 2,
   "id": "cd4d7ac8-624a-463a-a6b5-20558e8e56d8",
   "metadata": {},
   "outputs": [],
   "source": [
    "arr = np.array([[1,2,3],[4,5,2],[3,6,3],[8,4,23],[324,12,1]])"
   ]
  },
  {
   "cell_type": "code",
   "execution_count": null,
   "id": "d43e896b-572e-4851-8591-9510ab627781",
   "metadata": {},
   "outputs": [
    {
     "name": "stdout",
     "output_type": "stream",
     "text": [
      "[[  1   2   3]\n",
      " [  4   5   2]\n",
      " [  3   6   3]\n",
      " [  8   4  23]\n",
      " [324  12   1]]\n"
     ]
    }
   ],
   "source": [
    "print(arr)"
   ]
  },
  {
   "cell_type": "code",
   "execution_count": 4,
   "id": "3d474e04-e949-4de1-b172-8f8a90a53bca",
   "metadata": {},
   "outputs": [
    {
     "data": {
      "text/plain": [
       "array([  1,   2,   3,   4,   5,   2,   3,   6,   3,   8,   4,  23, 324,\n",
       "        12,   1])"
      ]
     },
     "execution_count": 4,
     "metadata": {},
     "output_type": "execute_result"
    }
   ],
   "source": [
    "flat = arr.flatten()\n",
    "flat"
   ]
  },
  {
   "cell_type": "code",
   "execution_count": 5,
   "id": "d5658820-ca62-4ea4-82be-6e42840e4a6e",
   "metadata": {},
   "outputs": [
    {
     "name": "stdout",
     "output_type": "stream",
     "text": [
      "1\n",
      "[1 2 3 4 5 2]\n",
      "[4 5 2 3]\n",
      "[  1   4   3   8 324]\n"
     ]
    }
   ],
   "source": [
    "print(flat[0])\n",
    "print(flat[:6])\n",
    "print(flat[3:7])\n",
    "print(flat[::3])"
   ]
  },
  {
   "cell_type": "code",
   "execution_count": 6,
   "id": "f3830c68-cdf6-4cd0-a72f-976c6e87b60f",
   "metadata": {},
   "outputs": [
    {
     "data": {
      "text/plain": [
       "array([4, 5, 2, 3, 6, 3])"
      ]
     },
     "execution_count": 6,
     "metadata": {},
     "output_type": "execute_result"
    }
   ],
   "source": [
    "# b = flat[3:9]\n",
    "b = flat[3:9].copy()\n",
    "b"
   ]
  },
  {
   "cell_type": "code",
   "execution_count": 7,
   "id": "cf1fe5f8-fb6e-4ddb-9841-b197d6a80cc1",
   "metadata": {},
   "outputs": [
    {
     "data": {
      "text/plain": [
       "array([     4,      5, 345353,      3,      6,      3])"
      ]
     },
     "execution_count": 7,
     "metadata": {},
     "output_type": "execute_result"
    }
   ],
   "source": [
    "b[2] = 345353\n",
    "b"
   ]
  },
  {
   "cell_type": "code",
   "execution_count": 8,
   "id": "4cf16344-cda4-48eb-9640-3019c0673d3a",
   "metadata": {},
   "outputs": [
    {
     "data": {
      "text/plain": [
       "array([  1,   2,   3,   4,   5,   2,   3,   6,   3,   8,   4,  23, 324,\n",
       "        12,   1])"
      ]
     },
     "execution_count": 8,
     "metadata": {},
     "output_type": "execute_result"
    }
   ],
   "source": [
    "flat"
   ]
  },
  {
   "cell_type": "code",
   "execution_count": 16,
   "id": "4715dffe-cdab-478d-a480-7ea2e963aea8",
   "metadata": {},
   "outputs": [
    {
     "data": {
      "text/plain": [
       "array([  4,   3, 324])"
      ]
     },
     "execution_count": 16,
     "metadata": {},
     "output_type": "execute_result"
    }
   ],
   "source": [
    "arr = np.array([1,2,3,4,5,2,3,6,3,8,4,23,324,12,1])\n",
    "arr[[3,6,12]]"
   ]
  },
  {
   "cell_type": "code",
   "execution_count": 14,
   "id": "37b7ec85-48e3-4d6f-b0e3-8883f8006724",
   "metadata": {},
   "outputs": [
    {
     "data": {
      "text/plain": [
       "array([  6,   8,  23, 324,  12])"
      ]
     },
     "execution_count": 14,
     "metadata": {},
     "output_type": "execute_result"
    }
   ],
   "source": [
    "arr[arr>5]"
   ]
  },
  {
   "cell_type": "code",
   "execution_count": null,
   "id": "942ebfc5-702e-47b9-ac22-770ad79c93cd",
   "metadata": {},
   "outputs": [],
   "source": [
    " "
   ]
  }
 ],
 "metadata": {
  "kernelspec": {
   "display_name": "Python 3 (ipykernel)",
   "language": "python",
   "name": "python3"
  },
  "language_info": {
   "codemirror_mode": {
    "name": "ipython",
    "version": 3
   },
   "file_extension": ".py",
   "mimetype": "text/x-python",
   "name": "python",
   "nbconvert_exporter": "python",
   "pygments_lexer": "ipython3",
   "version": "3.12.7"
  }
 },
 "nbformat": 4,
 "nbformat_minor": 5
}
