import matplotlib.pyplot as plt

plt.style.use("ggplot")


plt.style.use()



