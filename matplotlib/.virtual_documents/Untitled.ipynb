import seaborn as sns
import numpy as np


sns.set_theme(style)


sns.style.available



