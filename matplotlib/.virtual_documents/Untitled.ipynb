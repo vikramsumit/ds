import matplotlib.pyplot as plt


study_hours = [1, 2, 3, 4, 5, 6, 7, 8, 9]
exam_scores = [60, 55, 50, 55, 60, 65, 75, 85, 90]
# colors = ['#FF5733', '#33C1FF', '#75FF33', '#FFC300', '#DA33FF', '#FF33A6', '#33FFF3', '#A633FF', '#FF8F33']
size = [score * 1 for score in exam_scores]

plt.scatter(study_hours, exam_scores, c = exam_scores, cmap = 'viridis')
plt.colorbar(label = "Score")
# plt.scatter(exam_scores, study_hours)
for i in range(len(study_hours)):
    plt.annotate(f'S{i+1}', (study_hours[i] + 0.15, exam_scores[i] - 2.3))
plt.grid(True)
plt.title('Study hours vs exam hours')
plt.xlabel('Study hours')
plt.ylabel('Exam scores')


# Assume two groups: Class A and Class B
class_a_hours = [2, 4, 6, 8]
class_a_scores = [45, 55, 65, 85]

class_b_hours = [1, 3, 5, 7, 9]
class_b_scores = [40, 50, 60, 70, 90]



plt.scatter(class_a_hours, class_a_scores, label='Class A', color='blue')
plt.scatter(class_b_hours, class_b_scores, label='Class B', color='orange')

plt.title('Scatter Plot: Class A vs Class B')
plt.xlabel('Study Hours')
plt.ylabel('Exam Score')
plt.legend()
plt.grid(True)
plt.show()



