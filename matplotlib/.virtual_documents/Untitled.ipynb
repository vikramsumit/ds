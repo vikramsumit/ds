import matplotlib.pyplot as plt
import seaborn as sns


sns.get_dataset_names()


planets = sns.load_dataset("planets")


planets.info()


planets.tail()


planets.head()



