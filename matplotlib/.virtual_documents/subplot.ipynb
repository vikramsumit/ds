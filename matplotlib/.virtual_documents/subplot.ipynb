import matplotlib.pyplot as plt


x = [1, 2, 3, 4, 5]
y1 = [i * 2 for i in x]
y2 = [i ** 2 for i in x]
y3 = [i ** 3 for i in x]


plt.subplot(1,3,1)
plt.plot(x,y1)
plt.title('Double of x')
plt.xlabel('Number')
plt.ylabel('Double of Number')

plt.subplot(1,3,2)
plt.plot(x,y2)
plt.title('Square of x')
plt.xlabel('Number')
plt.ylabel('Square of Number')

plt.subplot(1,3,3)
plt.plot(x,y3)
plt.title('Cube of x')
plt.xlabel('Number')
plt.ylabel('Cube of Number')

plt.tight_layout()


# More variations of x
y3 = [i ** 0.5 for i in x]
y4 = [10 - i for i in x]

plt.figure(figsize=(8, 6))  # Optional: make it bigger

plt.subplot(2, 2, 1)
plt.plot(x, y1)
plt.title('x * 2')

plt.subplot(2, 2, 2)
plt.plot(x, y2)
plt.title('x squared')

plt.subplot(2, 2, 3)
plt.plot(x, y3)
plt.title('sqrt(x)')

plt.subplot(2, 2, 4)
plt.plot(x, y4)
plt.title('10 - x')

plt.tight_layout()
plt.show()


fig, axs = plt.subplots(1, 2, figsize=(8, 6))

axs[0].plot(x, y1)
axs[0].set_title('x * 2')

axs[1].plot(x, y2)
axs[1].set_title('x square')
 
fig.suptitle('Simple Comparison Plots', fontsize=14)
fig.tight_layout()
fig.subplots_adjust(top=0.85)  
# fig.savefig('my_plots.png')    


fig, axs = plt.subplots(2, 2, figsize=(8, 6))
# ys = [y1, y2, y3, y4]
titles = ['x * 2', 'x squared', 'sqrt(x)', '10 - x']

for i in range(2):
    for j in range(2):
        idx = i * 2 + j
        axs[i, j].plot(x, ys[idx])
        axs[i, j].set_title(titles[idx])

fig.suptitle('Simple Comparison Plots', fontsize=14)
plt.tight_layout()
fig.subplots_adjust(top=0.85) 
# plt.show()



