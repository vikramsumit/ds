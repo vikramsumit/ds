import matplotlib.pyplot as plt


plt.plot([1,2,3],[4,5,6])


years = [1990, 1992, 1994, 1996, 1998, 2000, 2003, 2005, 2007, 2010]
runs =  [500, 700, 1100, 1500, 1800, 1200, 1700, 1300, 900, 1500]
plt.plot(years, runs)
plt.show()


plt.plot(years, runs)
plt.xlabel("Year")
plt.ylabel("Runs Scored")
plt.title("Sachin Tendulkar's Yearly Runs")
plt.show()


kohli = [0, 0, 500, 800, 1100, 1300, 1500, 1800, 1900, 2100]
sehwag = [0, 300, 800, 1200, 1500, 1700, 1600, 1400, 1000, 0]

plt.plot(years, kohli, label="Virat Kohli")
plt.plot(years, sehwag, label="Virender Sehwag")

# plt.plot(years, kohli)
# plt.plot(years, sehwag)

# plt.legend(["Virat Kohli", "Sehwag"])

plt.xlabel("Year")
plt.ylabel("Runs Scored")
plt.title("Performance Comparison")
plt.legend()
plt.show()


plt.plot(years, kohli, 'ro-.', label="kohli")
plt.plot(years, sehwag, "g^--", label="sehwag")
plt.legend()
# https://matplotlib.org/stable/api/_as_gen/matplotlib.pyplot.plot.html


plt.plot(years, kohli, color='orange', linestyle='--',linewidth = "4", label="Kohli")
plt.plot(years, sehwag, color='green', linestyle='-.', label="Sehwag")
plt.plot(years, runs, color='blue', label="Tendulkar", linestyle="-")
plt.grid(True)
plt.tight_layout()
plt.legend()
plt.style.use('dark_background')


plt.style.available


# plt.style.use('_mpl-gallery')


# plt.plot(years, kohli, color='orange', linestyle='--',linewidth = "4", label="Kohli")
# plt.plot(years, sehwag, color='green', linestyle='-.', label="Sehwag")
# plt.plot(years, runs, color='blue', label="Tendulkar", linestyle="-")
# plt.grid(True)
# plt.tight_layout()
# plt.legend()


with plt.xkcd():
    plt.plot(years, kohli, color='orange', linestyle='--',linewidth = "4", label="Kohli")
    plt.plot(years, sehwag, color='green', linestyle='-.', label="Sehwag")
    plt.plot(years, runs, color='blue', label="Tendulkar", linestyle="-")
    plt.tight_layout()
    plt.legend()
    plt.show()
    plt.style.use('dark_background')



