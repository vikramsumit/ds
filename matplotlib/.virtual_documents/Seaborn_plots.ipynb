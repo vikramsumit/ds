import matplotlib.pyplot as plt
import seaborn as sns


sns.get_dataset_names()


# planets = sns.load_dataset("planets")
# planets.info()
# planets.tail()
# planets.head()


flights = sns.load_dataset("flights")


flights


flights.info()


flights.head()


flights.tail()


# sns.lineplot(x="year", y = "passengers", data=flights)
sns.barplot(x="year", y = "passengers", data=flights)
plt.title("years to passengers ratio")


pv = flights.pivot(index="month", columns= "year", values="passengers")


pv


sns.heatmap(pv, annot=True, fmt="d", cmap="YlGnBu")
plt.title('Heatmap of Passengers')
plt.show()


# pv = flights.pivot(index="year", columns= "month", values="passengers")


# pv



