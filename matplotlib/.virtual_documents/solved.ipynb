import matplotlib.pyplot as plt


years = [2011, 2012, 2013, 2014, 2015, 2016, 2017, 2018, 2019, 2020]

kohli_runs = [1380, 1025, 1260, 1050, 1255, 1345, 1290, 1425, 1370, 980]
rohit_runs = [750, 820, 1195, 875, 1100, 920, 1250, 1300, 1155, 750]
sehwag_runs = [1220, 970, 900, 650, 400, 0, 0, 0, 0, 0]

plt.plot(years, kohli_runs, label="kohli")
plt.plot(years, rohit_runs, label="rohit")
plt.plot(years, sehwag_runs, label="sehwag")   

plt.xlabel("year")
plt.ylabel("Runs scored")
plt.title("Performance Comparison")
plt.legend()
plt.show()


plt.plot(years, kohli_runs, 'm*:', label="kohli")
plt.plot(years, rohit_runs, 'ro-.', label="rohit")
plt.plot(years, sehwag_runs, 'g*-', label="sehwag")
plt.style.use('dark_background')
plt.legend()



