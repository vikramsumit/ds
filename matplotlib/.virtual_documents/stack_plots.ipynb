import matplotlib.pyplot as plt 


activities = ['Studying','Playing','Watching TV', 'Sleeping']


time_spent = [3,2,2,6]
colors = ['blue','red', 'yellow', 'violet']
plt.figure(figsize = (6,6))
plt.pie(time_spent, labels = activities, colors = colors, startangle=90, autopct = '%1.1f%%')
plt.title('School going student')
plt.axis('equal')


import matplotlib.pyplot as plt

days = [1, 2, 3, 4, 5, 6, 7]  # Days of the week
studying = [3, 4, 3, 5, 4, 3, 4]
playing = [2, 2, 1, 1, 2, 3, 2]
watching_tv = [2, 1, 2, 2, 1, 1, 1]
sleeping = [5, 5, 6, 5, 6, 5, 5]

labels = ['Studying', 'Playing', 'Watching TV', 'Sleeping']
colors = ['skyblue', 'lightgreen', 'gold', 'lightcoral']

plt.figure(figsize=(10,6))
plt.stackplot(days, studying, playing, watching_tv, sleeping,
              labels=labels, colors=colors, alpha=0.8)

plt.legend(loc='upper left')  # Location of the legend
# plt.legend()
plt.title('Weekly Activity Tracker')
plt.xlabel('Day')
plt.ylabel('Hours')
plt.grid(True)
# plt.show()


import matplotlib.pyplot as plt

days = ['Mon', 'Tue', 'Wed', 'Thu', 'Fri', 'Sat', 'Sun']
studying = [3, 4, 3, 5, 4, 3, 4]
playing = [2, 2, 1, 1, 2, 3, 2]
watching_tv = [2, 1, 2, 2, 1, 1, 1]
sleeping = [5, 5, 6, 5, 6, 5, 5]

labels = ['Studying', 'Playing', 'Watching TV', 'Sleeping']
colors = ['skyblue', 'lightgreen', 'gold', 'lightcoral']

# X positions for each bar
x = range(len(days))

# Plotting
plt.figure(figsize=(6, 6))

# Bottom layer: Studying
plt.bar(x, studying, color=colors[0], label=labels[0])

# Middle layers
bottom_playing = studying
plt.bar(x, playing, bottom=bottom_playing, color=colors[1], label=labels[1])

bottom_watching_tv = [studying[i] + playing[i] for i in range(len(days))]
plt.bar(x, watching_tv, bottom=bottom_watching_tv, color=colors[2], label=labels[2])

bottom_sleeping = [studying[i] + playing[i] + watching_tv[i] for i in range(len(days))]
plt.bar(x, sleeping, bottom=bottom_sleeping, color=colors[3], label=labels[3])

# Labels and legend
plt.xticks(x, days)  # Set day names on x-axis
plt.xlabel('Day')
plt.ylabel('Hours')
plt.title('Weekly Activity Tracker (Stacked Bar Plot)')
plt.legend(loc='upper left')
plt.grid(True, axis='y')

# Show plot
plt.show()







