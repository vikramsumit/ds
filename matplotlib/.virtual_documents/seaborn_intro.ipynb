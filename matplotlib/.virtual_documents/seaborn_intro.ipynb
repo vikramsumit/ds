import seaborn as sns
import numpy as np
import matplotlib.pyplot as plt


sns.set_theme(style="darkgrid")  # Options: whitegrid, dark, white, ticks


x = np.array([0, 2, 3, 4, 5, 6, 7, 8, 9 ,10, 60])
y = np.sin(x)

sns.lineplot(x=x, y=y)
plt.title('Beautiful Line Plot')
plt.show()


x1 = np.linespace(0, 2 * np.pi, 500)
y1 = np.tan(x1)

sns.lineplot(x = x1, y = y1)
plt.title('tan graph')


x = np.linspace(0, 4 * np.pi, 1000) # Creates 1000 points between 0 and 4π

y = np.sin(x)

plt.plot(x, y)

plt.xlabel("Angle (radians)")
plt.ylabel("Sine value")
plt.title("Sine Wave Graph")
plt.grid(True)


# sns.style.available
sns.axes_style()


tips = sns.load_dataset("tips")

sns.scatterplot(x="total_bill", y="tip", data=tips)
plt.title("Default (Darkgrid) Style")
plt.show()

# Set the style to 'whitegrid' and plot again
sns.set_style("whitegrid")
sns.scatterplot(x="total_bill", y="tip", data=tips)
plt.title("Whitegrid Style")
plt.show()

# Set the style to 'ticks' and plot
sns.set_style("darkgrid")
sns.scatterplot(x="total_bill", y="tip", data=tips)
plt.title("Ticks Style")
plt.show()




