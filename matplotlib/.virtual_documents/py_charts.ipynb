import matplotlib.pyplot as plt

plt.style.use("fivethirtyeight")
# plt.style.use("ggplot")
plt.style.available


labels = ["Sachin", "Sehwag", "Kohli", "Yuvraj"]
runs = [18000, 8000, 12000, 9500]

plt.title("Career Runs of Indian Batsmen")
plt.pie(runs, labels=labels)
plt.show()


colors = ['#ff9999','#66b3ff','#99ff99','#ffcc99']
plt.pie(runs, labels=labels, colors=colors)
plt.show()


plt.pie(
    runs,
    labels=labels,
    colors=colors,
    wedgeprops={'edgecolor': 'black', 'linewidth': 2, 'linestyle': '-.'}
)
plt.show()


explode = [0.03, 0.01, 0, 0]

plt.pie(runs, labels=labels, explode=explode, colors=colors)
plt.title("Exploded Pie Example")
plt.show()


plt.pie(
    runs,
    labels=labels,
    explode=explode,
    colors=colors,
    shadow=True 
)
plt.show()


plt.pie(
    runs,
    labels=labels,
    explode=explode,
    colors=colors,
    shadow=True,
    startangle= 180,
    autopct='%1.2f%%'
)
plt.show()


# Too many categories
languages = ['Python', 'Java', 'C++', 'JavaScript', 'C#', 'Ruby', 'Go', 'Rust', 'Swift', 'PHP']
usage = [30, 20, 10, 10, 7, 5, 4, 3, 2, 1]

plt.pie(usage, labels=languages, autopct='%1.1f%%', startangle=90)
plt.title("Programming Language Usage (Crowded Example)")
plt.show()


others = [ 'Ruby', 'Go', 'Rust', 'Swift', 'PHP']
usage = [  5, 4, 3, 2, 1]
languages = ['Python', 'Java', 'C++', 'JavaScript', 'C#','others']
usage = [30, 20, 10, 10, 7]

plt.pie(usage, labels=languages, autopct='%1.1f%%', startangle=90)
plt.title("Programming Language Usage (Crowded Example)")
plt.show()



