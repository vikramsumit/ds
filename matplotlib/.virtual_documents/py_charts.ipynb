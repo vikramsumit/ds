import matplotlib.pyplot as plt

plt.style.use("fivethirtyeight")
# plt.style.use("ggplot")
plt.style.available


labels = ["Sachin", "Sehwag", "Kohli", "Yuvraj"]
runs = [18000, 8000, 12000, 9500]

plt.title("Career Runs of Indian Batsmen")
plt.pie(runs, labels=labels)
plt.show()


colors = ['#ff9999','#66b3ff','#99ff99','#ffcc99']
plt.pie(runs, labels=labels, colors=colors)
plt.show()


plt.pie(
    runs,
    labels=labels,
    colors=colors,
    wedgeprops={'edgecolor': 'black', 'linewidth': 2, 'linestyle': '-.'}
)
plt.show()


explode = [0.03, 0.01, 0, 0]

plt.pie(runs, labels=labels, explode=explode, colors=colors)
plt.title("Exploded Pie Example")
plt.show()


plt.pie(
    runs,
    labels=labels,
    explode=explode,
    colors=colors,
    shadow=True 
)
plt.show()


plt.pie(
    runs,
    labels=labels,
    explode=explode,
    colors=colors,
    shadow=True,
    startangle= 180,
    autopct='%1.2f%%'
)
plt.show()


# Too many categories
languages = ['Python', 'Java', 'C++', 'JavaScript', 'C#', 'Ruby', 'Go', 'Rust', 'Swift', 'PHP']
usage = [30, 20, 10, 10, 7, 5, 4, 3, 2, 1]

plt.pie(usage, labels=languages, autopct='%1.1f%%', startangle=90)
plt.title("Programming Language Usage (Crowded Example)")
plt.show()


others = [ 'Ruby', 'Go', 'Rust', 'Swift', 'PHP']
usage1 = [  5, 4, 3, 2, 1]
languages = ['Python', 'Java', 'C++', 'JavaScript', 'C#','others']
usage = [30, 20, 10, 10, 7,15 ]

plt.pie(usage, labels=languages, autopct='%1.1f%%', startangle=90)
plt.title("Programming Language Usage (Crowded Example)")
plt.show()


import matplotlib.pyplot as plt

others = ['Ruby', 'Go', 'Rust', 'Swift', 'PHP']
usage1 = [5, 4, 3, 2, 1]
languages = ['Python', 'Java', 'C++', 'JavaScript', 'C#', 'Others']
usage = [30, 20, 10, 10, 7, 15] 

fig, (ax1, ax2) = plt.subplots(1, 2, figsize=(14, 6))
fig.suptitle('Programming Language Usage', fontsize=16)

explode = [0, 0, 0, 0, 0, 0.1]  # Pull out "Others" slice
ax1.pie(usage, labels=languages, autopct='%1.1f%%', startangle=90, explode=explode)
ax1.set_title('Primary Languages', pad=20)

# Breakdown Bar Chart (for Others)
total = sum(usage)  # 92
percentages = [val/total * 100 for val in usage1]  # Convert to percentage of total
bars = ax2.bar(others, percentages, color='#ff9999')
ax2.set_title('Breakdown of "Others" Category', pad=20)
ax2.set_ylabel('Percentage of Total (%)')
ax2.grid(axis='y', alpha=0.3)

# Add value labels on bars
for bar in bars:
    height = bar.get_height()
    ax2.annotate(f'{height:.1f}%',
                 xy=(bar.get_x() + bar.get_width() / 2, height),
                 xytext=(0, 3),  # Offset label
                 textcoords="offset points",
                 ha='center', va='bottom')

plt.tight_layout(rect=[0, 0, 1, 0.95])  # Adjust layout to include suptitle
plt.show()



