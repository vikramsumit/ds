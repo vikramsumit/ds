{
 "cells": [
  {
   "cell_type": "code",
   "execution_count": 1,
   "id": "fd2553e2-5330-4c03-9dd6-82fbdc703138",
   "metadata": {},
   "outputs": [],
   "source": [
    "import pandas as pd"
   ]
  },
  {
   "cell_type": "code",
   "execution_count": 2,
   "id": "86beea9f-c3f0-4a3b-91cb-b271ff2426ae",
   "metadata": {},
   "outputs": [],
   "source": [
    "s = pd.Series([54,76,76,77,55,87,89,67,67,67,87,67])"
   ]
  },
  {
   "cell_type": "code",
   "execution_count": 3,
   "id": "9708f74f-55b8-4127-bfd6-fc1329a45f0d",
   "metadata": {},
   "outputs": [
    {
     "data": {
      "text/plain": [
       "pandas.core.series.Series"
      ]
     },
     "execution_count": 3,
     "metadata": {},
     "output_type": "execute_result"
    }
   ],
   "source": [
    "type(s)"
   ]
  },
  {
   "cell_type": "code",
   "execution_count": 4,
   "id": "44276182-86dc-42c6-bf7f-01cc517cfe66",
   "metadata": {},
   "outputs": [
    {
     "name": "stdout",
     "output_type": "stream",
     "text": [
      "0     54\n",
      "1     76\n",
      "2     76\n",
      "3     77\n",
      "4     55\n",
      "5     87\n",
      "6     89\n",
      "7     67\n",
      "8     67\n",
      "9     67\n",
      "10    87\n",
      "11    67\n",
      "dtype: int64\n"
     ]
    }
   ],
   "source": [
    "print(s)"
   ]
  },
  {
   "cell_type": "code",
   "execution_count": 5,
   "id": "75712bbc-0218-4dc8-b45e-cdce03a87389",
   "metadata": {},
   "outputs": [],
   "source": [
    "s2 = pd.Series([54,76,76,77,55,87,89,67,67], index=[\"raju\", \"kaju\",\"sita\", \"gita\", \"rita\",\"bablu\", \"dablu\",\"rachin\", \"sachin\"])"
   ]
  },
  {
   "cell_type": "code",
   "execution_count": 6,
   "id": "d5bac523-31cd-4a7e-8705-205ebd6f20de",
   "metadata": {},
   "outputs": [
    {
     "data": {
      "text/plain": [
       "raju      54\n",
       "kaju      76\n",
       "sita      76\n",
       "gita      77\n",
       "rita      55\n",
       "bablu     87\n",
       "dablu     89\n",
       "rachin    67\n",
       "sachin    67\n",
       "dtype: int64"
      ]
     },
     "execution_count": 6,
     "metadata": {},
     "output_type": "execute_result"
    }
   ],
   "source": [
    "s2"
   ]
  },
  {
   "cell_type": "code",
   "execution_count": 7,
   "id": "49dab072-ae5e-420f-af37-e309e1fe2176",
   "metadata": {},
   "outputs": [
    {
     "data": {
      "text/plain": [
       "54"
      ]
     },
     "execution_count": 7,
     "metadata": {},
     "output_type": "execute_result"
    }
   ],
   "source": [
    "s2[\"raju\"]"
   ]
  },
  {
   "cell_type": "code",
   "execution_count": 8,
   "id": "69a76d9f-8723-4c10-89e9-882b79c9d311",
   "metadata": {},
   "outputs": [],
   "source": [
    "data = {\n",
    "    \"name\": [\"Alice\", \"Bob\", \"Charlie\"],\n",
    "    \"age\": [25, 30, 35],\n",
    "    \"city\": [\"Delhi\", \"Mumbai\", \"Bangalore\"]\n",
    "}"
   ]
  },
  {
   "cell_type": "code",
   "execution_count": 10,
   "id": "7fb6ae4c-616f-454d-8e91-4374c8ad5529",
   "metadata": {},
   "outputs": [],
   "source": [
    "df = pd.DataFrame(data)"
   ]
  },
  {
   "cell_type": "code",
   "execution_count": 11,
   "id": "da4d6293-45e5-43fc-afcf-b03517ac4439",
   "metadata": {},
   "outputs": [
    {
     "data": {
      "text/html": [
       "<div>\n",
       "<style scoped>\n",
       "    .dataframe tbody tr th:only-of-type {\n",
       "        vertical-align: middle;\n",
       "    }\n",
       "\n",
       "    .dataframe tbody tr th {\n",
       "        vertical-align: top;\n",
       "    }\n",
       "\n",
       "    .dataframe thead th {\n",
       "        text-align: right;\n",
       "    }\n",
       "</style>\n",
       "<table border=\"1\" class=\"dataframe\">\n",
       "  <thead>\n",
       "    <tr style=\"text-align: right;\">\n",
       "      <th></th>\n",
       "      <th>name</th>\n",
       "      <th>age</th>\n",
       "      <th>city</th>\n",
       "    </tr>\n",
       "  </thead>\n",
       "  <tbody>\n",
       "    <tr>\n",
       "      <th>0</th>\n",
       "      <td>Alice</td>\n",
       "      <td>25</td>\n",
       "      <td>Delhi</td>\n",
       "    </tr>\n",
       "    <tr>\n",
       "      <th>1</th>\n",
       "      <td>Bob</td>\n",
       "      <td>30</td>\n",
       "      <td>Mumbai</td>\n",
       "    </tr>\n",
       "    <tr>\n",
       "      <th>2</th>\n",
       "      <td>Charlie</td>\n",
       "      <td>35</td>\n",
       "      <td>Bangalore</td>\n",
       "    </tr>\n",
       "  </tbody>\n",
       "</table>\n",
       "</div>"
      ],
      "text/plain": [
       "      name  age       city\n",
       "0    Alice   25      Delhi\n",
       "1      Bob   30     Mumbai\n",
       "2  Charlie   35  Bangalore"
      ]
     },
     "execution_count": 11,
     "metadata": {},
     "output_type": "execute_result"
    }
   ],
   "source": [
    "df"
   ]
  },
  {
   "cell_type": "code",
   "execution_count": 12,
   "id": "a4b32b0b-d252-41d3-8e4a-29ffb5fc94af",
   "metadata": {},
   "outputs": [
    {
     "data": {
      "text/plain": [
       "RangeIndex(start=0, stop=3, step=1)"
      ]
     },
     "execution_count": 12,
     "metadata": {},
     "output_type": "execute_result"
    }
   ],
   "source": [
    "df.index"
   ]
  },
  {
   "cell_type": "code",
   "execution_count": 13,
   "id": "1e9e125a-8670-43cd-ad74-73fff6cb9f25",
   "metadata": {},
   "outputs": [
    {
     "data": {
      "text/plain": [
       "Index(['name', 'age', 'city'], dtype='object')"
      ]
     },
     "execution_count": 13,
     "metadata": {},
     "output_type": "execute_result"
    }
   ],
   "source": [
    "df.columns"
   ]
  },
  {
   "cell_type": "code",
   "execution_count": null,
   "id": "e54c5c32-98ed-4887-a05b-44adfa36fa6a",
   "metadata": {},
   "outputs": [],
   "source": []
  }
 ],
 "metadata": {
  "kernelspec": {
   "display_name": "Python 3 (ipykernel)",
   "language": "python",
   "name": "python3"
  },
  "language_info": {
   "codemirror_mode": {
    "name": "ipython",
    "version": 3
   },
   "file_extension": ".py",
   "mimetype": "text/x-python",
   "name": "python",
   "nbconvert_exporter": "python",
   "pygments_lexer": "ipython3",
   "version": "3.12.7"
  }
 },
 "nbformat": 4,
 "nbformat_minor": 5
}
