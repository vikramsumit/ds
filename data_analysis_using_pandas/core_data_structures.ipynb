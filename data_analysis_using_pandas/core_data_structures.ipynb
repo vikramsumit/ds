{
 "cells": [
  {
   "cell_type": "code",
   "execution_count": 1,
   "id": "fd2553e2-5330-4c03-9dd6-82fbdc703138",
   "metadata": {},
   "outputs": [],
   "source": [
    "import pandas as pd"
   ]
  },
  {
   "cell_type": "code",
   "execution_count": 4,
   "id": "86beea9f-c3f0-4a3b-91cb-b271ff2426ae",
   "metadata": {},
   "outputs": [],
   "source": [
    "s = pd.Series([54,76,76,77,55,87,89,67,67,67,87,67])"
   ]
  },
  {
   "cell_type": "code",
   "execution_count": 5,
   "id": "9708f74f-55b8-4127-bfd6-fc1329a45f0d",
   "metadata": {},
   "outputs": [
    {
     "data": {
      "text/plain": [
       "pandas.core.series.Series"
      ]
     },
     "execution_count": 5,
     "metadata": {},
     "output_type": "execute_result"
    }
   ],
   "source": [
    "type(s)"
   ]
  },
  {
   "cell_type": "code",
   "execution_count": 6,
   "id": "44276182-86dc-42c6-bf7f-01cc517cfe66",
   "metadata": {},
   "outputs": [
    {
     "name": "stdout",
     "output_type": "stream",
     "text": [
      "0     54\n",
      "1     76\n",
      "2     76\n",
      "3     77\n",
      "4     55\n",
      "5     87\n",
      "6     89\n",
      "7     67\n",
      "8     67\n",
      "9     67\n",
      "10    87\n",
      "11    67\n",
      "dtype: int64\n"
     ]
    }
   ],
   "source": [
    "print(s)"
   ]
  },
  {
   "cell_type": "code",
   "execution_count": 9,
   "id": "75712bbc-0218-4dc8-b45e-cdce03a87389",
   "metadata": {},
   "outputs": [],
   "source": [
    "s2 = pd.Series([54,76,76,77,55,87,89,67,67], index=[\"raju\", \"kaju\",\"sita\", \"gita\", \"rita\",\"bablu\", \"dablu\",\"rachin\", \"sachin\"])"
   ]
  },
  {
   "cell_type": "code",
   "execution_count": 10,
   "id": "d5bac523-31cd-4a7e-8705-205ebd6f20de",
   "metadata": {},
   "outputs": [
    {
     "data": {
      "text/plain": [
       "raju      54\n",
       "kaju      76\n",
       "sita      76\n",
       "gita      77\n",
       "rita      55\n",
       "bablu     87\n",
       "dablu     89\n",
       "rachin    67\n",
       "sachin    67\n",
       "dtype: int64"
      ]
     },
     "execution_count": 10,
     "metadata": {},
     "output_type": "execute_result"
    }
   ],
   "source": [
    "s2"
   ]
  },
  {
   "cell_type": "code",
   "execution_count": null,
   "id": "49dab072-ae5e-420f-af37-e309e1fe2176",
   "metadata": {},
   "outputs": [],
   "source": []
  }
 ],
 "metadata": {
  "kernelspec": {
   "display_name": "Python 3 (ipykernel)",
   "language": "python",
   "name": "python3"
  },
  "language_info": {
   "codemirror_mode": {
    "name": "ipython",
    "version": 3
   },
   "file_extension": ".py",
   "mimetype": "text/x-python",
   "name": "python",
   "nbconvert_exporter": "python",
   "pygments_lexer": "ipython3",
   "version": "3.12.7"
  }
 },
 "nbformat": 4,
 "nbformat_minor": 5
}
