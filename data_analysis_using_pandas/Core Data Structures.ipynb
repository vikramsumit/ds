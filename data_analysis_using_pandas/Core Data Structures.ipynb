{
 "cells": [
  {
   "cell_type": "markdown",
   "id": "eed1c66f-b1dd-4636-9f2f-57c24872b7dc",
   "metadata": {},
   "source": [
    "# Core Data Structures in Pandas\n",
    "\n",
    "Pandas is built on **two main data structures**:\n",
    "\n",
    "1. **Series** → One-dimensional (like a single column in Excel)\n",
    "2. **DataFrame** → Two-dimensional (like a full spreadsheet or SQL table)\n",
    "\n",
    "***\n",
    "\n",
    "## Series — 1D Labeled Array\n",
    "\n",
    "A `Series` is like a list with **labels (index)**.\n",
    "\n",
    "```python\n",
    "import pandas as pd\n",
    "\n",
    "s = pd.Series([10, 20, 30, 40])\n",
    "print(s)\n",
    "```\n",
    "\n",
    "**Output:**\n",
    "\n",
    "```\n",
    "0    10\n",
    "1    20\n",
    "2    30\n",
    "3    40\n",
    "dtype: int64\n",
    "```\n",
    "\n",
    "Notice the **automatic index**: 0, 1, 2, 3\n",
    "\n",
    "You can also define a custom index:\n",
    "\n",
    "```python\n",
    "s = pd.Series([10, 20, 30], index=[\"a\", \"b\", \"c\"])\n",
    "```\n",
    "\n",
    "A `pandas.Series` may look similar to a Python dictionary because both store data with labels, but a Series offers much more. Unlike a dictionary, a Series supports fast vectorized operations, automatic index alignment during arithmetic, and handles missing data using `NaN`. It also allows both label-based and position-based access, and integrates seamlessly with the pandas ecosystem, especially DataFrames. While a dictionary is great for simple key–value storage, a Series is better suited for data analysis and manipulation tasks where performance, flexibility, and built-in functionality matter.\n",
    "\n",
    "***\n",
    "\n",
    "## DataFrame — 2D Labeled Table\n",
    "\n",
    "A `DataFrame` is like a **dictionary of Series** — multiple columns with labels.\n",
    "\n",
    "```python\n",
    "data = {\n",
    "    \"name\": [\"Alice\", \"Bob\", \"Charlie\"],\n",
    "    \"age\": [25, 30, 35],\n",
    "    \"city\": [\"Delhi\", \"Mumbai\", \"Bangalore\"]\n",
    "}\n",
    "\n",
    "df = pd.DataFrame(data)\n",
    "print(df)\n",
    "```\n",
    "\n",
    "**Output:**\n",
    "\n",
    "```\n",
    "     name  age      city\n",
    "0   Alice   25     Delhi\n",
    "1     Bob   30    Mumbai\n",
    "2  Charlie   35  Bangalore\n",
    "```\n",
    "\n",
    "Each column in a `DataFrame` is a `Series`.\n",
    "\n",
    "***\n",
    "\n",
    "## Index and Labels\n",
    "\n",
    "Every Series and DataFrame has an **Index** — it helps with:\n",
    "\n",
    "* Fast lookups\n",
    "* Aligning data\n",
    "* Merging & joining\n",
    "* Time series operations\n",
    "\n",
    "```python\n",
    "df.index         # Row labels\n",
    "df.columns       # Column labels\n",
    "```\n",
    "\n",
    "You can change them using:\n",
    "\n",
    "```python\n",
    "df.index = [\"a\", \"b\", \"c\"]\n",
    "df.columns = [\"Name\", \"Age\", \"City\"]\n",
    "```\n",
    "\n",
    "***\n",
    "\n",
    "## Why Learn These Well?\n",
    "\n",
    "Most Pandas operations are built on these foundations:\n",
    "\n",
    "* Selection\n",
    "* Filtering\n",
    "* Merging\n",
    "* Aggregation\n",
    "\n",
    "Understanding Series & DataFrames will make everything else easier.\n",
    "\n",
    "***\n",
    "\n",
    "## Summary\n",
    "\n",
    "* `Series` = 1D array with labels\n",
    "* `DataFrame` = 2D table with rows + columns\n",
    "* Both come with index and are the heart of Pandas"
   ]
  },
  {
   "cell_type": "code",
   "execution_count": 1,
   "id": "c09737db-38e6-4fe3-a091-c9238d24d6e1",
   "metadata": {},
   "outputs": [],
   "source": [
    "import pandas as pd"
   ]
  },
  {
   "cell_type": "code",
   "execution_count": 3,
   "id": "92e49e66-863f-43d2-a193-8db87d1543ab",
   "metadata": {},
   "outputs": [],
   "source": [
    "s1 = pd.Series([71, 84, 56, 23, 56, 98, 56])"
   ]
  },
  {
   "cell_type": "code",
   "execution_count": 4,
   "id": "bd3d8f8f-83d8-4151-b295-c9fef3030d2c",
   "metadata": {},
   "outputs": [
    {
     "data": {
      "text/plain": [
       "pandas.core.series.Series"
      ]
     },
     "execution_count": 4,
     "metadata": {},
     "output_type": "execute_result"
    }
   ],
   "source": [
    "type(s1)"
   ]
  },
  {
   "cell_type": "code",
   "execution_count": 5,
   "id": "bf5562a2-df27-4994-8838-3f58ac73c9b8",
   "metadata": {},
   "outputs": [
    {
     "name": "stdout",
     "output_type": "stream",
     "text": [
      "0    71\n",
      "1    84\n",
      "2    56\n",
      "3    23\n",
      "4    56\n",
      "5    98\n",
      "6    56\n",
      "dtype: int64\n"
     ]
    }
   ],
   "source": [
    "print(s1)"
   ]
  },
  {
   "cell_type": "code",
   "execution_count": 7,
   "id": "73369008-e154-4138-baa1-1f5b0099c434",
   "metadata": {},
   "outputs": [],
   "source": [
    "s2 = pd.Series([71, 84, 56, 23, 56, 98, 56], index=[\"Harry\", \"Shubh\", \"Rohan\", \"Aakash\", \"Kirti\", \"John\", \"Rehan\"])"
   ]
  },
  {
   "cell_type": "code",
   "execution_count": 8,
   "id": "78bfba55-d0a9-43c8-b8d6-a35a0ed05a43",
   "metadata": {},
   "outputs": [
    {
     "data": {
      "text/plain": [
       "Harry     71\n",
       "Shubh     84\n",
       "Rohan     56\n",
       "Aakash    23\n",
       "Kirti     56\n",
       "John      98\n",
       "Rehan     56\n",
       "dtype: int64"
      ]
     },
     "execution_count": 8,
     "metadata": {},
     "output_type": "execute_result"
    }
   ],
   "source": [
    "s2"
   ]
  },
  {
   "cell_type": "code",
   "execution_count": 9,
   "id": "13cc8c6c-e334-4601-b37e-cf0b568e3b31",
   "metadata": {},
   "outputs": [
    {
     "data": {
      "text/plain": [
       "71"
      ]
     },
     "execution_count": 9,
     "metadata": {},
     "output_type": "execute_result"
    }
   ],
   "source": [
    "s2[\"Harry\"]"
   ]
  },
  {
   "cell_type": "code",
   "execution_count": 10,
   "id": "60aa68d8-7e7f-4795-9fc6-6f6b32e7ff19",
   "metadata": {},
   "outputs": [
    {
     "data": {
      "text/plain": [
       "56"
      ]
     },
     "execution_count": 10,
     "metadata": {},
     "output_type": "execute_result"
    }
   ],
   "source": [
    "s2[\"Rohan\"]"
   ]
  },
  {
   "cell_type": "code",
   "execution_count": 11,
   "id": "632041de-f060-4c56-9f9d-f2f1d644c932",
   "metadata": {},
   "outputs": [],
   "source": [
    "data = {\n",
    "    \"name\": [\"Alice\", \"Bob\", \"Charlie\"],\n",
    "    \"age\": [25, 30, 35],\n",
    "    \"city\": [\"Delhi\", \"Mumbai\", \"Bangalore\"]\n",
    "}"
   ]
  },
  {
   "cell_type": "code",
   "execution_count": 13,
   "id": "05d31f5e-16bb-49d8-be3b-61c045c168f1",
   "metadata": {},
   "outputs": [],
   "source": [
    "df = pd.DataFrame(data)"
   ]
  },
  {
   "cell_type": "code",
   "execution_count": 14,
   "id": "a352a305-a0fe-47ed-ab53-bf035d859ded",
   "metadata": {},
   "outputs": [
    {
     "data": {
      "text/html": [
       "<div>\n",
       "<style scoped>\n",
       "    .dataframe tbody tr th:only-of-type {\n",
       "        vertical-align: middle;\n",
       "    }\n",
       "\n",
       "    .dataframe tbody tr th {\n",
       "        vertical-align: top;\n",
       "    }\n",
       "\n",
       "    .dataframe thead th {\n",
       "        text-align: right;\n",
       "    }\n",
       "</style>\n",
       "<table border=\"1\" class=\"dataframe\">\n",
       "  <thead>\n",
       "    <tr style=\"text-align: right;\">\n",
       "      <th></th>\n",
       "      <th>name</th>\n",
       "      <th>age</th>\n",
       "      <th>city</th>\n",
       "    </tr>\n",
       "  </thead>\n",
       "  <tbody>\n",
       "    <tr>\n",
       "      <th>0</th>\n",
       "      <td>Alice</td>\n",
       "      <td>25</td>\n",
       "      <td>Delhi</td>\n",
       "    </tr>\n",
       "    <tr>\n",
       "      <th>1</th>\n",
       "      <td>Bob</td>\n",
       "      <td>30</td>\n",
       "      <td>Mumbai</td>\n",
       "    </tr>\n",
       "    <tr>\n",
       "      <th>2</th>\n",
       "      <td>Charlie</td>\n",
       "      <td>35</td>\n",
       "      <td>Bangalore</td>\n",
       "    </tr>\n",
       "  </tbody>\n",
       "</table>\n",
       "</div>"
      ],
      "text/plain": [
       "      name  age       city\n",
       "0    Alice   25      Delhi\n",
       "1      Bob   30     Mumbai\n",
       "2  Charlie   35  Bangalore"
      ]
     },
     "execution_count": 14,
     "metadata": {},
     "output_type": "execute_result"
    }
   ],
   "source": [
    "df"
   ]
  },
  {
   "cell_type": "code",
   "execution_count": 15,
   "id": "0056cf9a-5d8e-4027-99c0-cb290a4f2295",
   "metadata": {},
   "outputs": [
    {
     "data": {
      "text/plain": [
       "RangeIndex(start=0, stop=3, step=1)"
      ]
     },
     "execution_count": 15,
     "metadata": {},
     "output_type": "execute_result"
    }
   ],
   "source": [
    "df.index"
   ]
  },
  {
   "cell_type": "code",
   "execution_count": 16,
   "id": "ff5f283d-da4f-41a0-8f78-e5585ec2bdd4",
   "metadata": {},
   "outputs": [
    {
     "data": {
      "text/plain": [
       "Index(['name', 'age', 'city'], dtype='object')"
      ]
     },
     "execution_count": 16,
     "metadata": {},
     "output_type": "execute_result"
    }
   ],
   "source": [
    "df.columns"
   ]
  },
  {
   "cell_type": "code",
   "execution_count": null,
   "id": "41b1d3e7-a768-4535-b35b-6274169f49a8",
   "metadata": {},
   "outputs": [],
   "source": []
  }
 ],
 "metadata": {
  "kernelspec": {
   "display_name": "Python [conda env:base] *",
   "language": "python",
   "name": "conda-base-py"
  },
  "language_info": {
   "codemirror_mode": {
    "name": "ipython",
    "version": 3
   },
   "file_extension": ".py",
   "mimetype": "text/x-python",
   "name": "python",
   "nbconvert_exporter": "python",
   "pygments_lexer": "ipython3",
   "version": "3.12.7"
  }
 },
 "nbformat": 4,
 "nbformat_minor": 5
}
