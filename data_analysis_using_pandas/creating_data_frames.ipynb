{
 "cells": [
  {
   "cell_type": "code",
   "execution_count": 1,
   "id": "f3ab84ab-9388-4be6-a2b5-c242ddc47c3c",
   "metadata": {},
   "outputs": [],
   "source": [
    "import pandas as pd"
   ]
  },
  {
   "cell_type": "code",
   "execution_count": 2,
   "id": "035012a3-94d7-40e3-86a6-e48da0a23782",
   "metadata": {},
   "outputs": [],
   "source": [
    "data = [['raju',35],['subham', 45], ['raja', 66],['bheeem',55]]"
   ]
  },
  {
   "cell_type": "code",
   "execution_count": 3,
   "id": "6852d76a-69a9-436b-9c36-ee7d75587b28",
   "metadata": {},
   "outputs": [
    {
     "data": {
      "text/plain": [
       "[['raju', 35], ['subham', 45], ['raja', 66], ['bheeem', 55]]"
      ]
     },
     "execution_count": 3,
     "metadata": {},
     "output_type": "execute_result"
    }
   ],
   "source": [
    "data"
   ]
  },
  {
   "cell_type": "code",
   "execution_count": 5,
   "id": "71358593-638f-4de4-85d0-0b009a96320e",
   "metadata": {},
   "outputs": [
    {
     "data": {
      "text/html": [
       "<div>\n",
       "<style scoped>\n",
       "    .dataframe tbody tr th:only-of-type {\n",
       "        vertical-align: middle;\n",
       "    }\n",
       "\n",
       "    .dataframe tbody tr th {\n",
       "        vertical-align: top;\n",
       "    }\n",
       "\n",
       "    .dataframe thead th {\n",
       "        text-align: right;\n",
       "    }\n",
       "</style>\n",
       "<table border=\"1\" class=\"dataframe\">\n",
       "  <thead>\n",
       "    <tr style=\"text-align: right;\">\n",
       "      <th></th>\n",
       "      <th>Name</th>\n",
       "      <th>Markds</th>\n",
       "    </tr>\n",
       "  </thead>\n",
       "  <tbody>\n",
       "    <tr>\n",
       "      <th>0</th>\n",
       "      <td>raju</td>\n",
       "      <td>35</td>\n",
       "    </tr>\n",
       "    <tr>\n",
       "      <th>1</th>\n",
       "      <td>subham</td>\n",
       "      <td>45</td>\n",
       "    </tr>\n",
       "    <tr>\n",
       "      <th>2</th>\n",
       "      <td>raja</td>\n",
       "      <td>66</td>\n",
       "    </tr>\n",
       "    <tr>\n",
       "      <th>3</th>\n",
       "      <td>bheeem</td>\n",
       "      <td>55</td>\n",
       "    </tr>\n",
       "  </tbody>\n",
       "</table>\n",
       "</div>"
      ],
      "text/plain": [
       "     Name  Markds\n",
       "0    raju      35\n",
       "1  subham      45\n",
       "2    raja      66\n",
       "3  bheeem      55"
      ]
     },
     "execution_count": 5,
     "metadata": {},
     "output_type": "execute_result"
    }
   ],
   "source": [
    "pd.DataFrame(data, columns=[\"Name\", \"Markds\"])"
   ]
  },
  {
   "cell_type": "code",
   "execution_count": 6,
   "id": "e8060c8a-d2b2-437e-8f2b-92e9aa0832d3",
   "metadata": {},
   "outputs": [],
   "source": [
    "data2 = {\"a\": [2,32,12], \"b\" :[34,232,32]}"
   ]
  },
  {
   "cell_type": "code",
   "execution_count": 7,
   "id": "2482f588-5a22-496e-9cb6-243c6d6df51d",
   "metadata": {},
   "outputs": [
    {
     "data": {
      "text/plain": [
       "{'a': [2, 32, 12], 'b': [34, 232, 32]}"
      ]
     },
     "execution_count": 7,
     "metadata": {},
     "output_type": "execute_result"
    }
   ],
   "source": [
    "data2"
   ]
  },
  {
   "cell_type": "code",
   "execution_count": 15,
   "id": "7c33437d-5239-4d90-a4c9-5498b8cdbefd",
   "metadata": {},
   "outputs": [],
   "source": [
    "df = pd.DataFrame(data2, )"
   ]
  },
  {
   "cell_type": "code",
   "execution_count": null,
   "id": "8d519cae-2c0b-4acf-8408-aaefaad88588",
   "metadata": {},
   "outputs": [],
   "source": []
  }
 ],
 "metadata": {
  "kernelspec": {
   "display_name": "Python 3 (ipykernel)",
   "language": "python",
   "name": "python3"
  },
  "language_info": {
   "codemirror_mode": {
    "name": "ipython",
    "version": 3
   },
   "file_extension": ".py",
   "mimetype": "text/x-python",
   "name": "python",
   "nbconvert_exporter": "python",
   "pygments_lexer": "ipython3",
   "version": "3.12.7"
  }
 },
 "nbformat": 4,
 "nbformat_minor": 5
}
