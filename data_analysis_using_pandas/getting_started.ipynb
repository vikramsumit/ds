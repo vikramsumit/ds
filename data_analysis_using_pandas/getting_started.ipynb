{
 "cells": [
  {
   "cell_type": "code",
   "execution_count": 1,
   "id": "756da60e-11ba-402f-a694-5566de203ba2",
   "metadata": {},
   "outputs": [],
   "source": [
    "import pandas as pd"
   ]
  },
  {
   "cell_type": "code",
   "execution_count": 3,
   "id": "783750a1-5d88-4c89-9663-a9ebfdcf2705",
   "metadata": {},
   "outputs": [],
   "source": [
    "s1 = pd.Series([56,76,87,87,65,97,90])"
   ]
  },
  {
   "cell_type": "code",
   "execution_count": 4,
   "id": "cd45cb4f-7cdc-4e39-b296-fdc32326f410",
   "metadata": {},
   "outputs": [
    {
     "data": {
      "text/plain": [
       "pandas.core.series.Series"
      ]
     },
     "execution_count": 4,
     "metadata": {},
     "output_type": "execute_result"
    }
   ],
   "source": [
    "type(s1)"
   ]
  },
  {
   "cell_type": "code",
   "execution_count": 5,
   "id": "62221a4f-173d-4f5a-a0fe-86da27b48a06",
   "metadata": {},
   "outputs": [
    {
     "name": "stdout",
     "output_type": "stream",
     "text": [
      "0    56\n",
      "1    76\n",
      "2    87\n",
      "3    87\n",
      "4    65\n",
      "5    97\n",
      "6    90\n",
      "dtype: int64\n"
     ]
    }
   ],
   "source": [
    "print(s)"
   ]
  },
  {
   "cell_type": "code",
   "execution_count": 7,
   "id": "86459e88-0a02-41a8-a3da-00e0b8a0dc97",
   "metadata": {},
   "outputs": [],
   "source": [
    "s2 = pd.Series([56,76,87,87,65,97,90], index = [\"Raju\", \"bheem\", \"shreya\", \"aman\", \"santosh\", \"motu\", \"divya\"])"
   ]
  },
  {
   "cell_type": "code",
   "execution_count": 8,
   "id": "1ec64e96-429a-4401-afc6-2bbb4456839d",
   "metadata": {},
   "outputs": [
    {
     "data": {
      "text/plain": [
       "Raju       56\n",
       "bheem      76\n",
       "shreya     87\n",
       "aman       87\n",
       "santosh    65\n",
       "motu       97\n",
       "divya      90\n",
       "dtype: int64"
      ]
     },
     "execution_count": 8,
     "metadata": {},
     "output_type": "execute_result"
    }
   ],
   "source": [
    "s2"
   ]
  },
  {
   "cell_type": "code",
   "execution_count": 11,
   "id": "c8d18a11-b862-4ca3-a47b-d6e41f72a66f",
   "metadata": {},
   "outputs": [
    {
     "data": {
      "text/plain": [
       "np.int64(87)"
      ]
     },
     "execution_count": 11,
     "metadata": {},
     "output_type": "execute_result"
    }
   ],
   "source": [
    "s2[\"shreya\"]"
   ]
  },
  {
   "cell_type": "code",
   "execution_count": 12,
   "id": "b88cb9da-8174-430a-a27c-aff62acfff89",
   "metadata": {},
   "outputs": [
    {
     "data": {
      "text/plain": [
       "np.int64(65)"
      ]
     },
     "execution_count": 12,
     "metadata": {},
     "output_type": "execute_result"
    }
   ],
   "source": [
    "s2[\"santosh\"]"
   ]
  },
  {
   "cell_type": "code",
   "execution_count": 13,
   "id": "474d6812-fc5b-4444-a2d2-42a275e4cf3b",
   "metadata": {},
   "outputs": [],
   "source": [
    "data = {\n",
    "    \"name\": [\"raju\", \"bheem\", \"motu\"],\n",
    "    \"age\": [25, 30, 35],\n",
    "    \"city\": [\"Delhi\", \"Mumbai\", \"Bangalore\"]\n",
    "}"
   ]
  },
  {
   "cell_type": "code",
   "execution_count": 14,
   "id": "62ce966e-f378-432a-98db-deb63f6d46fd",
   "metadata": {},
   "outputs": [
    {
     "name": "stdout",
     "output_type": "stream",
     "text": [
      "    name  age       city\n",
      "0   raju   25      Delhi\n",
      "1  bheem   30     Mumbai\n",
      "2   motu   35  Bangalore\n"
     ]
    }
   ],
   "source": [
    "df = pd.DataFrame(data)\n",
    "print(df)"
   ]
  },
  {
   "cell_type": "code",
   "execution_count": 15,
   "id": "2b80baab-9c92-4b9a-b66c-5481861a61ad",
   "metadata": {},
   "outputs": [
    {
     "data": {
      "text/plain": [
       "RangeIndex(start=0, stop=3, step=1)"
      ]
     },
     "execution_count": 15,
     "metadata": {},
     "output_type": "execute_result"
    }
   ],
   "source": [
    "df.index"
   ]
  },
  {
   "cell_type": "code",
   "execution_count": 16,
   "id": "9c5e566b-e985-4a86-b162-381c4d3c2f61",
   "metadata": {},
   "outputs": [
    {
     "data": {
      "text/plain": [
       "Index(['name', 'age', 'city'], dtype='object')"
      ]
     },
     "execution_count": 16,
     "metadata": {},
     "output_type": "execute_result"
    }
   ],
   "source": [
    "df.columns"
   ]
  },
  {
   "cell_type": "code",
   "execution_count": null,
   "id": "2cc78bb3-1708-4d09-b235-824e8913f002",
   "metadata": {},
   "outputs": [],
   "source": []
  }
 ],
 "metadata": {
  "kernelspec": {
   "display_name": "Python 3 (ipykernel)",
   "language": "python",
   "name": "python3"
  },
  "language_info": {
   "codemirror_mode": {
    "name": "ipython",
    "version": 3
   },
   "file_extension": ".py",
   "mimetype": "text/x-python",
   "name": "python",
   "nbconvert_exporter": "python",
   "pygments_lexer": "ipython3",
   "version": "3.13.5"
  }
 },
 "nbformat": 4,
 "nbformat_minor": 5
}
