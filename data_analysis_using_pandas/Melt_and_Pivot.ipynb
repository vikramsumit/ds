{
 "cells": [
  {
   "cell_type": "code",
   "execution_count": 2,
   "id": "fb8e866b-3797-4b74-a2b0-908893548a0e",
   "metadata": {},
   "outputs": [
    {
     "name": "stdout",
     "output_type": "stream",
     "text": [
      "    Name  Math  Science  English\n",
      "0   Raju    85       90       88\n",
      "1  Bheem    78       82       85\n",
      "2  Kalia    92       89       94\n"
     ]
    }
   ],
   "source": [
    "import pandas as pd\n",
    "\n",
    "# Sample DataFrame\n",
    "data = {\n",
    "    'Name': ['Raju', 'Bheem', 'Kalia'],\n",
    "    'Math': [85, 78, 92],\n",
    "    'Science': [90, 82, 89],\n",
    "    'English': [88, 85, 94]\n",
    "}\n",
    "\n",
    "df = pd.DataFrame(data)\n",
    "\n",
    "# Display the DataFrame\n",
    "print(df)\n"
   ]
  },
  {
   "cell_type": "code",
   "execution_count": 10,
   "id": "cc1db664-03fb-4d14-aebf-13150af812cd",
   "metadata": {},
   "outputs": [],
   "source": [
    "# df.melt(id_vars=[\"Name\"], value_vars=[\"Math\", \"Science\", \"English\"], var_name=\"Subject\", value_name=\"Score\", col_level=None)\n",
    "df2 = df.melt(id_vars=[\"Name\"], value_vars=[\"Math\", \"Science\", \"English\"], var_name=\"Subject\", value_name=\"Score\")"
   ]
  },
  {
   "cell_type": "code",
   "execution_count": 11,
   "id": "57a323d8-16c3-4c87-bbb2-d01f3ec843a8",
   "metadata": {},
   "outputs": [
    {
     "data": {
      "text/html": [
       "<div>\n",
       "<style scoped>\n",
       "    .dataframe tbody tr th:only-of-type {\n",
       "        vertical-align: middle;\n",
       "    }\n",
       "\n",
       "    .dataframe tbody tr th {\n",
       "        vertical-align: top;\n",
       "    }\n",
       "\n",
       "    .dataframe thead th {\n",
       "        text-align: right;\n",
       "    }\n",
       "</style>\n",
       "<table border=\"1\" class=\"dataframe\">\n",
       "  <thead>\n",
       "    <tr style=\"text-align: right;\">\n",
       "      <th></th>\n",
       "      <th>Name</th>\n",
       "      <th>Subject</th>\n",
       "      <th>Score</th>\n",
       "    </tr>\n",
       "  </thead>\n",
       "  <tbody>\n",
       "    <tr>\n",
       "      <th>0</th>\n",
       "      <td>Raju</td>\n",
       "      <td>Math</td>\n",
       "      <td>85</td>\n",
       "    </tr>\n",
       "    <tr>\n",
       "      <th>1</th>\n",
       "      <td>Bheem</td>\n",
       "      <td>Math</td>\n",
       "      <td>78</td>\n",
       "    </tr>\n",
       "    <tr>\n",
       "      <th>2</th>\n",
       "      <td>Kalia</td>\n",
       "      <td>Math</td>\n",
       "      <td>92</td>\n",
       "    </tr>\n",
       "    <tr>\n",
       "      <th>3</th>\n",
       "      <td>Raju</td>\n",
       "      <td>Science</td>\n",
       "      <td>90</td>\n",
       "    </tr>\n",
       "    <tr>\n",
       "      <th>4</th>\n",
       "      <td>Bheem</td>\n",
       "      <td>Science</td>\n",
       "      <td>82</td>\n",
       "    </tr>\n",
       "    <tr>\n",
       "      <th>5</th>\n",
       "      <td>Kalia</td>\n",
       "      <td>Science</td>\n",
       "      <td>89</td>\n",
       "    </tr>\n",
       "    <tr>\n",
       "      <th>6</th>\n",
       "      <td>Raju</td>\n",
       "      <td>English</td>\n",
       "      <td>88</td>\n",
       "    </tr>\n",
       "    <tr>\n",
       "      <th>7</th>\n",
       "      <td>Bheem</td>\n",
       "      <td>English</td>\n",
       "      <td>85</td>\n",
       "    </tr>\n",
       "    <tr>\n",
       "      <th>8</th>\n",
       "      <td>Kalia</td>\n",
       "      <td>English</td>\n",
       "      <td>94</td>\n",
       "    </tr>\n",
       "  </tbody>\n",
       "</table>\n",
       "</div>"
      ],
      "text/plain": [
       "    Name  Subject  Score\n",
       "0   Raju     Math     85\n",
       "1  Bheem     Math     78\n",
       "2  Kalia     Math     92\n",
       "3   Raju  Science     90\n",
       "4  Bheem  Science     82\n",
       "5  Kalia  Science     89\n",
       "6   Raju  English     88\n",
       "7  Bheem  English     85\n",
       "8  Kalia  English     94"
      ]
     },
     "execution_count": 11,
     "metadata": {},
     "output_type": "execute_result"
    }
   ],
   "source": [
    "df2"
   ]
  },
  {
   "cell_type": "code",
   "execution_count": 24,
   "id": "5beec279-cc99-42dd-8070-311953e0a2ad",
   "metadata": {},
   "outputs": [
    {
     "data": {
      "text/html": [
       "<div>\n",
       "<style scoped>\n",
       "    .dataframe tbody tr th:only-of-type {\n",
       "        vertical-align: middle;\n",
       "    }\n",
       "\n",
       "    .dataframe tbody tr th {\n",
       "        vertical-align: top;\n",
       "    }\n",
       "\n",
       "    .dataframe thead th {\n",
       "        text-align: right;\n",
       "    }\n",
       "</style>\n",
       "<table border=\"1\" class=\"dataframe\">\n",
       "  <thead>\n",
       "    <tr style=\"text-align: right;\">\n",
       "      <th>Subject</th>\n",
       "      <th>English</th>\n",
       "      <th>Math</th>\n",
       "      <th>Science</th>\n",
       "    </tr>\n",
       "    <tr>\n",
       "      <th>Name</th>\n",
       "      <th></th>\n",
       "      <th></th>\n",
       "      <th></th>\n",
       "    </tr>\n",
       "  </thead>\n",
       "  <tbody>\n",
       "    <tr>\n",
       "      <th>Bheem</th>\n",
       "      <td>85</td>\n",
       "      <td>78</td>\n",
       "      <td>82</td>\n",
       "    </tr>\n",
       "    <tr>\n",
       "      <th>Kalia</th>\n",
       "      <td>94</td>\n",
       "      <td>92</td>\n",
       "      <td>89</td>\n",
       "    </tr>\n",
       "    <tr>\n",
       "      <th>Raju</th>\n",
       "      <td>88</td>\n",
       "      <td>85</td>\n",
       "      <td>90</td>\n",
       "    </tr>\n",
       "  </tbody>\n",
       "</table>\n",
       "</div>"
      ],
      "text/plain": [
       "Subject  English  Math  Science\n",
       "Name                           \n",
       "Bheem         85    78       82\n",
       "Kalia         94    92       89\n",
       "Raju          88    85       90"
      ]
     },
     "execution_count": 24,
     "metadata": {},
     "output_type": "execute_result"
    }
   ],
   "source": [
    "df2.pivot(index = \"Name\", columns =\"Subject\", values = \"Score\")"
   ]
  },
  {
   "cell_type": "code",
   "execution_count": 23,
   "id": "236a25c3-2aae-4c54-aefd-c443bf147ca9",
   "metadata": {},
   "outputs": [
    {
     "data": {
      "text/html": [
       "<div>\n",
       "<style scoped>\n",
       "    .dataframe tbody tr th:only-of-type {\n",
       "        vertical-align: middle;\n",
       "    }\n",
       "\n",
       "    .dataframe tbody tr th {\n",
       "        vertical-align: top;\n",
       "    }\n",
       "\n",
       "    .dataframe thead th {\n",
       "        text-align: right;\n",
       "    }\n",
       "</style>\n",
       "<table border=\"1\" class=\"dataframe\">\n",
       "  <thead>\n",
       "    <tr style=\"text-align: right;\">\n",
       "      <th></th>\n",
       "      <th>Name</th>\n",
       "      <th>Subject</th>\n",
       "      <th>Score</th>\n",
       "    </tr>\n",
       "  </thead>\n",
       "  <tbody>\n",
       "    <tr>\n",
       "      <th>0</th>\n",
       "      <td>Raju</td>\n",
       "      <td>Math</td>\n",
       "      <td>85</td>\n",
       "    </tr>\n",
       "    <tr>\n",
       "      <th>1</th>\n",
       "      <td>Bheem</td>\n",
       "      <td>Math</td>\n",
       "      <td>78</td>\n",
       "    </tr>\n",
       "    <tr>\n",
       "      <th>2</th>\n",
       "      <td>Kalia</td>\n",
       "      <td>Math</td>\n",
       "      <td>92</td>\n",
       "    </tr>\n",
       "    <tr>\n",
       "      <th>3</th>\n",
       "      <td>Raju</td>\n",
       "      <td>Science</td>\n",
       "      <td>90</td>\n",
       "    </tr>\n",
       "    <tr>\n",
       "      <th>4</th>\n",
       "      <td>Bheem</td>\n",
       "      <td>Science</td>\n",
       "      <td>82</td>\n",
       "    </tr>\n",
       "    <tr>\n",
       "      <th>5</th>\n",
       "      <td>Kalia</td>\n",
       "      <td>Science</td>\n",
       "      <td>89</td>\n",
       "    </tr>\n",
       "    <tr>\n",
       "      <th>6</th>\n",
       "      <td>Raju</td>\n",
       "      <td>English</td>\n",
       "      <td>88</td>\n",
       "    </tr>\n",
       "    <tr>\n",
       "      <th>7</th>\n",
       "      <td>Bheem</td>\n",
       "      <td>English</td>\n",
       "      <td>85</td>\n",
       "    </tr>\n",
       "    <tr>\n",
       "      <th>8</th>\n",
       "      <td>Kalia</td>\n",
       "      <td>English</td>\n",
       "      <td>94</td>\n",
       "    </tr>\n",
       "  </tbody>\n",
       "</table>\n",
       "</div>"
      ],
      "text/plain": [
       "    Name  Subject  Score\n",
       "0   Raju     Math     85\n",
       "1  Bheem     Math     78\n",
       "2  Kalia     Math     92\n",
       "3   Raju  Science     90\n",
       "4  Bheem  Science     82\n",
       "5  Kalia  Science     89\n",
       "6   Raju  English     88\n",
       "7  Bheem  English     85\n",
       "8  Kalia  English     94"
      ]
     },
     "execution_count": 23,
     "metadata": {},
     "output_type": "execute_result"
    }
   ],
   "source": [
    "df2"
   ]
  },
  {
   "cell_type": "code",
   "execution_count": 25,
   "id": "c692ad67-ce28-4d42-b9cd-5119c6f379ba",
   "metadata": {},
   "outputs": [
    {
     "name": "stdout",
     "output_type": "stream",
     "text": [
      "    Name  Subject  Score\n",
      "0   Raju     Math     85\n",
      "1  Bheem     Math     78\n",
      "2  Kalia     Math     92\n",
      "3   Raju  Science     90\n",
      "4  Bheem  Science     82\n",
      "5  Kalia  Science     89\n",
      "6   Raju  English     88\n",
      "7  Bheem  English     85\n",
      "8  Kalia  English     94\n"
     ]
    }
   ],
   "source": [
    "# Sample DataFrame\n",
    "data = {\n",
    "    'Name': ['Raju', 'Bheem', 'Kalia','Raju', 'Bheem', 'Kalia','Raju', 'Bheem', 'Kalia',],\n",
    "    'Subject': ['Math','Math','Math','Science','Science','Science','English','English','English'],\n",
    "    'Score': [85,78,92,90,82,89,88,85,94],\n",
    "    }\n",
    "\n",
    "df2 = pd.DataFrame(data)\n",
    "\n",
    "# Display the DataFrame\n",
    "print(df2)"
   ]
  },
  {
   "cell_type": "code",
   "execution_count": 26,
   "id": "c31efce4-863b-466d-8795-5a854a18a909",
   "metadata": {},
   "outputs": [
    {
     "data": {
      "text/html": [
       "<div>\n",
       "<style scoped>\n",
       "    .dataframe tbody tr th:only-of-type {\n",
       "        vertical-align: middle;\n",
       "    }\n",
       "\n",
       "    .dataframe tbody tr th {\n",
       "        vertical-align: top;\n",
       "    }\n",
       "\n",
       "    .dataframe thead th {\n",
       "        text-align: right;\n",
       "    }\n",
       "</style>\n",
       "<table border=\"1\" class=\"dataframe\">\n",
       "  <thead>\n",
       "    <tr style=\"text-align: right;\">\n",
       "      <th>Subject</th>\n",
       "      <th>English</th>\n",
       "      <th>Math</th>\n",
       "      <th>Science</th>\n",
       "    </tr>\n",
       "    <tr>\n",
       "      <th>Name</th>\n",
       "      <th></th>\n",
       "      <th></th>\n",
       "      <th></th>\n",
       "    </tr>\n",
       "  </thead>\n",
       "  <tbody>\n",
       "    <tr>\n",
       "      <th>Bheem</th>\n",
       "      <td>85</td>\n",
       "      <td>78</td>\n",
       "      <td>82</td>\n",
       "    </tr>\n",
       "    <tr>\n",
       "      <th>Kalia</th>\n",
       "      <td>94</td>\n",
       "      <td>92</td>\n",
       "      <td>89</td>\n",
       "    </tr>\n",
       "    <tr>\n",
       "      <th>Raju</th>\n",
       "      <td>88</td>\n",
       "      <td>85</td>\n",
       "      <td>90</td>\n",
       "    </tr>\n",
       "  </tbody>\n",
       "</table>\n",
       "</div>"
      ],
      "text/plain": [
       "Subject  English  Math  Science\n",
       "Name                           \n",
       "Bheem         85    78       82\n",
       "Kalia         94    92       89\n",
       "Raju          88    85       90"
      ]
     },
     "execution_count": 26,
     "metadata": {},
     "output_type": "execute_result"
    }
   ],
   "source": [
    "df2.pivot(index = \"Name\", columns =\"Subject\", values = \"Score\")"
   ]
  },
  {
   "cell_type": "code",
   "execution_count": 27,
   "id": "47fffa6d-654e-43fa-a106-06549fcc8dc4",
   "metadata": {},
   "outputs": [
    {
     "name": "stdout",
     "output_type": "stream",
     "text": [
      "    Name  English  Math  Science\n",
      "0  Bheem       85    78       82\n",
      "1  Kalia       94    92       89\n",
      "2   Raju       88    85       90\n"
     ]
    }
   ],
   "source": [
    "df_pivot = df2.pivot(index=\"Name\", columns=\"Subject\", values=\"Score\")\n",
    "df_pivot.columns.name = None        # Remove \"Subject\" label above columns\n",
    "df_pivot.reset_index(inplace=True)  # Make \"Name\" a regular column\n",
    "print(df_pivot)"
   ]
  },
  {
   "cell_type": "code",
   "execution_count": null,
   "id": "1c5f6454-bb94-4f10-b951-60c8cd97ea57",
   "metadata": {},
   "outputs": [],
   "source": []
  }
 ],
 "metadata": {
  "kernelspec": {
   "display_name": "Python 3 (ipykernel)",
   "language": "python",
   "name": "python3"
  },
  "language_info": {
   "codemirror_mode": {
    "name": "ipython",
    "version": 3
   },
   "file_extension": ".py",
   "mimetype": "text/x-python",
   "name": "python",
   "nbconvert_exporter": "python",
   "pygments_lexer": "ipython3",
   "version": "3.13.5"
  }
 },
 "nbformat": 4,
 "nbformat_minor": 5
}
