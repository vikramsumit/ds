import pandas as pd


df = pd.read_csv("data.csv")


df


df = df[df['IMDb']>7.0]


df



