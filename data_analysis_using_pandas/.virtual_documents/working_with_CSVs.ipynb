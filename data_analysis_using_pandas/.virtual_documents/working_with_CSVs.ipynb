import pandas as pd


df = pd.read_csv("data.csv")


df


df = df[df['IMDb']>7.0]


df


df.to_csv("data_updates.csv", index = False)


df = pd.read_json("data2.json")


df


df.info()


data = [
  {"id": 1, "name": "Alice", "address": {"city": "Delhi", "zipcode": "110001"}},
  {"id": 2, "name": "Bob", "address": {"city": "Mumbai", "zipcode": "400001"}}
]


df = pd.json_normalize(data)


df


df.info()



