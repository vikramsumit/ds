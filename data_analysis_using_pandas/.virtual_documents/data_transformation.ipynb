import pandas as pd


df = pd.read_csv("data.csv")


df


df.sort_values("Year")


df.sort_values("Year", ascending = False)


df.sort_values(["Year", "IMDb"])


# df2.sort_index()


df2 = df.sort_values(["Year", "IMDb"]).copy()


# df2.reset_index()
# df2.reset_index(drop = True)
df2.reset_index(drop = True, inplace = True)


df2


# df["Rank"] = df["IMDb"].rank()
df["Rank"] = df["IMDb"].rank(ascending = False, method="dense") 


df


# df.rename(columns={"oldName": "newName"}, inplace=True)
# df.rename(index={0: "row1", 1: "row2"}, inplace=True)



df = df[["Rank", "Film", "Year", "Genre", "BoxOffice(INR Crore)", "Actor", "IMDb" ]]   # Reorder as desired


df



