import pandas as pd


employees = pd.DataFrame({
    "EmpID": [1, 2, 3],
    "Name": ["Alice", "Bob", "Charlie"],
    "DeptID": [10, 20, 30]
})


employees


departments = pd.DataFrame({
    "DeptID": [10, 20, 40],
    "DeptName": ["HR", "Engineering", "Marketing"]
})


departments


pd.merge(employees, departments, on="DeptID")


pd.merge(employees, departments, on = "DeptID", how = "left") #left join


pd.merge(employees, departments, on = "DeptID", how = "right") #right join


pd.merge(employees, departments, on="DeptID", how="outer")  #outer join


df1 = pd.DataFrame({"Name": ["Alice", "Bob"]})
df2 = pd.DataFrame({"Name": ["Charlie", "David"]})


df1


df2


pd.concat([df1, df2])


pd.concat([df1, df2], axis = 1)



