import pandas as pd
df=pd.read_csv("data_cleaning_sample.csv")
df


df.isnull()


df.isnull().sum()


df.dropna()
# drop rows


df.dropna(axis=1)
# drop columns


df.fillna(0.0)


df['Age'].fillna(df["Age"].mean())


# df.fillna(method ="ffill")
df.fillna(method ="bfill")


df.duplicated()


df.drop_duplicates()


df.duplicated(subset =[ "Name", "Age"])


df["Name"].str.lower()


df["City"].str.contains("delhi", case=False)


df["Email"].str.split("@")


df2 = df.dropna().copy()


df2


df2["Age"] = df2["Age"].astype(int)


df2


df2.info()


df


df["Age Group"] = df["Age"].apply(lambda x: "Adult" if x >= 25 else "Minor")
# Constructed a new column name "Age Group"


df


gender_map = {"M": "Male", "F": "Female", "O": "Other"}
df["Gender"] = df["Gender"].map(gender_map)


df


df3 = df.copy()
df3


df3["City"] = df["City"].replace({"Delhi": "New Delhi","Los Angeles":"Bajrangpur"})


df3



