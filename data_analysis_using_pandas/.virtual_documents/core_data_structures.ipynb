import pandas as pd


s = pd.Series([54,76,76,77,55,87,89,67,67,67,87,67])


type(s)


print(s)


s2 = pd.Series([54,76,76,77,55,87,89,67,67], index=["raju", "kaju","sita", "gita", "rita","bablu", "dablu","rachin", "sachin"])


s2


s2["raju"]


data = {
    "name": ["Alice", "Bob", "Charlie"],
    "age": [25, 30, 35],
    "city": ["Delhi", "Mumbai", "Bangalore"]
}


df = pd.DataFrame(data)


df


df.index


df.columns



