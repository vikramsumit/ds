import pandas as pd


data = [['raju',35],['subham', 45], ['raja', 66],['bheeem',55]]


data


pd.DataFrame[data, columns=[Name, Markd]]



