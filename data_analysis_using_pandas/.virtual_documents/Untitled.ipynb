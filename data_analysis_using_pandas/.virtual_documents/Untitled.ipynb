import pandas as pd

# Sample DataFrame
data = {
    'Name': ['Raju', 'Bheem', 'Kalia'],
    'Math': [85, 78, 92],
    'Science': [90, 82, 89],
    'English': [88, 85, 94]
}

df = pd.DataFrame(data)

# Display the DataFrame
print(df)



# df.melt(id_vars=["Name"], value_vars=["Math", "Science", "English"], var_name="Subject", value_name="Score", col_level=None)
df2 = df.melt(id_vars=["Name"], value_vars=["Math", "Science", "English"], var_name="Subject", value_name="Score")


df2


df2.pivot(index = "Name", columns ="Subject", values = "Score")


df2


# Sample DataFrame
data = {
    'Name': ['Raju', 'Bheem', 'Kalia','Raju', 'Bheem', 'Kalia','Raju', 'Bheem', 'Kalia',],
    'Subject': ['Math','Math','Math','Science','Science','Science','English','English','English'],
    'Score': [85,78,92,90,82,89,88,85,94],
    }

df2 = pd.DataFrame(data)

# Display the DataFrame
print(df2)


df2.pivot(index = "Name", columns ="Subject", values = "Score")


df_pivot = df2.pivot(index="Name", columns="Subject", values="Score")
df_pivot.columns.name = None        # Remove "Subject" label above columns
df_pivot.reset_index(inplace=True)  # Make "Name" a regular column
print(df_pivot)



