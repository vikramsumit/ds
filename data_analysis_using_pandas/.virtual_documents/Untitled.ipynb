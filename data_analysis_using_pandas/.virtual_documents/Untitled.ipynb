import pandas as pd


s = pd.Series([54,76,76,77,55,87,89,67,67,67,87,67])


type(s)


print(s)


s2 = pd.Series([54,76,76,77,55,87,89,67,67], index=["raju", "kaju","sita", "gita", "rita","bablu", "dablu","rachin", "sachin"])


s2



