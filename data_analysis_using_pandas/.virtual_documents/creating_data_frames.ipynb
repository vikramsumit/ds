import pandas as pd


data = [['raju',35],['subham', 45], ['raja', 66],['bheeem',55]]


data


pd.DataFrame(data, columns=["Name", "Markds"])


data2 = {"a": [2,32,12], "b" :[34,32,32]}


data2


df = pd.DataFrame(data2)


df


import numpy as np


arr = np.array([[3,4],[4,2]])


arr


df = pd.DataFrame(arr, columns=["A", "B"])


df


df = pd.read_json("data.json")


df


# df = pd.read_excel("data.xlsx", engine='openpyxl
# this one is ascii file not excel


# df


df = pd.read_csv("data.csv")


df


df = pd.read_csv("https://raw.githubusercontent.com/mwaskom/seaborn-data/master/tips.csv")
df


df_flights = pd.read_csv("https://raw.githubusercontent.com/mwaskom/seaborn-data/master/flights.csv")
df_flights


df_titanic = pd.read_csv("https://raw.githubusercontent.com/mwaskom/seaborn-data/master/titanic.csv")
df_titanic



