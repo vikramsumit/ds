import pandas as pd


data = [['raju',35],['subham', 45], ['raja', 66],['bheeem',55]]


data


pd.DataFrame(data, columns=["Name", "Markds"])


data2 = {"a": [2,32,12], "b" :[34,232,32]}


data2


df = pd.DataFrame(data2)


df



