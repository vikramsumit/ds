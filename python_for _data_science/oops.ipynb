{
 "cells": [
  {
   "cell_type": "code",
   "execution_count": 1,
   "id": "e7a89619-4c74-4f21-8c5c-4d3bce7370dd",
   "metadata": {},
   "outputs": [
    {
     "name": "stdout",
     "output_type": "stream",
     "text": [
      "Toyota Camry\n"
     ]
    }
   ],
   "source": [
    "class Car:\n",
    "    def __init__(self, brand, model):\n",
    "        self.brand = brand  # Attribute\n",
    "        self.model = model  # Attribute\n",
    "\n",
    "    def display_info(self):  # Method\n",
    "        return f\"{self.brand} {self.model}\"\n",
    "\n",
    "# Creating an Object (Instance)\n",
    "car1 = Car(\"Toyota\", \"Camry\")\n",
    "print(car1.display_info())  # Output: Toyota Camry"
   ]
  },
  {
   "cell_type": "code",
   "execution_count": null,
   "id": "746b5442-9565-43d9-8354-b9f65b436a54",
   "metadata": {},
   "outputs": [],
   "source": [
    "class BankAccount:\n",
    "    def __init__(self, balance):\n",
    "        self.__balance = balance  # Private Attribute\n",
    "\n",
    "    def get_balance(self):  # Getter\n",
    "        return self.__balance\n",
    "\n",
    "    def deposit(self, amount):  # Setter\n",
    "        if amount > 0:\n",
    "            self.__balance += amount\n",
    "\n",
    "# Using Encapsulation\n",
    "account = BankAccount(1000)\n",
    "account.deposit(500)\n",
    "print(account.get_balance())  # Output: 1500"
   ]
  }
 ],
 "metadata": {
  "kernelspec": {
   "display_name": "Python 3 (ipykernel)",
   "language": "python",
   "name": "python3"
  },
  "language_info": {
   "codemirror_mode": {
    "name": "ipython",
    "version": 3
   },
   "file_extension": ".py",
   "mimetype": "text/x-python",
   "name": "python",
   "nbconvert_exporter": "python",
   "pygments_lexer": "ipython3",
   "version": "3.11.7"
  }
 },
 "nbformat": 4,
 "nbformat_minor": 5
}
