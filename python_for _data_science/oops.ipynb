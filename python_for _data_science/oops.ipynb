{
 "cells": [
  {
   "cell_type": "code",
   "execution_count": 1,
   "id": "e7a89619-4c74-4f21-8c5c-4d3bce7370dd",
   "metadata": {},
   "outputs": [
    {
     "name": "stdout",
     "output_type": "stream",
     "text": [
      "Toyota Camry\n"
     ]
    }
   ],
   "source": [
    "class Car:\n",
    "    def __init__(self, brand, model):\n",
    "        self.brand = brand  # Attribute\n",
    "        self.model = model  # Attribute\n",
    "\n",
    "    def display_info(self):  # Method\n",
    "        return f\"{self.brand} {self.model}\"\n",
    "\n",
    "# Creating an Object (Instance)\n",
    "car1 = Car(\"Toyota\", \"Camry\")\n",
    "print(car1.display_info())  # Output: Toyota Camry"
   ]
  },
  {
   "cell_type": "code",
   "execution_count": 2,
   "id": "746b5442-9565-43d9-8354-b9f65b436a54",
   "metadata": {},
   "outputs": [
    {
     "name": "stdout",
     "output_type": "stream",
     "text": [
      "1500\n"
     ]
    }
   ],
   "source": [
    "class BankAccount:\n",
    "    def __init__(self, balance):\n",
    "        self.__balance = balance  # Private Attribute\n",
    "\n",
    "    def get_balance(self):  # Getter\n",
    "        return self.__balance\n",
    "\n",
    "    def deposit(self, amount):  # Setter\n",
    "        if amount > 0:\n",
    "            self.__balance += amount\n",
    "\n",
    "# Using Encapsulation\n",
    "account = BankAccount(1000)\n",
    "account.deposit(500)\n",
    "print(account.get_balance())  # Output: 1500"
   ]
  },
  {
   "cell_type": "code",
   "execution_count": 3,
   "id": "9cb11b76-41fe-46f3-8029-8ea46054d9d3",
   "metadata": {},
   "outputs": [
    {
     "name": "stdout",
     "output_type": "stream",
     "text": [
      "Bark\n"
     ]
    }
   ],
   "source": [
    "class Animal:\n",
    "    def speak(self):\n",
    "        return \"Animal makes a sound\"\n",
    "\n",
    "class Dog(Animal):  # Inheriting from Animal\n",
    "    def speak(self):\n",
    "        return \"Bark\"\n",
    "\n",
    "dog = Dog()\n",
    "print(dog.speak())  # Output: Bark"
   ]
  },
  {
   "cell_type": "code",
   "execution_count": 4,
   "id": "cd02613d-3ed1-48ac-997c-1fcea06dcbf3",
   "metadata": {},
   "outputs": [
    {
     "name": "stdout",
     "output_type": "stream",
     "text": [
      "Method A\n",
      "Method B\n"
     ]
    }
   ],
   "source": [
    "class A:\n",
    "    def method_a(self):\n",
    "        return \"Method A\"\n",
    "\n",
    "class B:\n",
    "    def method_b(self):\n",
    "        return \"Method B\"\n",
    "\n",
    "class C(A, B):  # Multiple Inheritance\n",
    "    pass\n",
    "\n",
    "obj = C()\n",
    "print(obj.method_a())  # Output: Method A\n",
    "print(obj.method_b())  # Output: Method B"
   ]
  },
  {
   "cell_type": "code",
   "execution_count": 5,
   "id": "3032b674-61b8-4c3d-a005-2399a660f01b",
   "metadata": {},
   "outputs": [
    {
     "name": "stdout",
     "output_type": "stream",
     "text": [
      "Birds can fly\n",
      "Penguins cannot fly\n"
     ]
    }
   ],
   "source": [
    "class Bird:\n",
    "    def fly(self):\n",
    "        return \"Birds can fly\"\n",
    "\n",
    "class Penguin(Bird):\n",
    "    def fly(self):\n",
    "        return \"Penguins cannot fly\"\n",
    "\n",
    "bird = Bird()\n",
    "penguin = Penguin()\n",
    "\n",
    "print(bird.fly())      # Output: Birds can fly\n",
    "print(penguin.fly())   # Output: Penguins cannot fly"
   ]
  },
  {
   "cell_type": "code",
   "execution_count": 6,
   "id": "8a3e43a0-9dc4-484a-9fc9-5c508139fc1b",
   "metadata": {},
   "outputs": [
    {
     "name": "stdout",
     "output_type": "stream",
     "text": [
      "16\n"
     ]
    }
   ],
   "source": [
    "from abc import ABC, abstractmethod\n",
    "\n",
    "class Shape(ABC):\n",
    "    @abstractmethod\n",
    "    def area(self):\n",
    "        pass  # No implementation\n",
    "\n",
    "class Square(Shape):\n",
    "    def __init__(self, side):\n",
    "        self.side = side\n",
    "\n",
    "    def area(self):\n",
    "        return self.side * self.side  # Implemented in child class\n",
    "\n",
    "square = Square(4)\n",
    "print(square.area())  # Output: 16"
   ]
  },
  {
   "cell_type": "code",
   "execution_count": null,
   "id": "3aed1333-3e91-4f0f-9090-ce877c410562",
   "metadata": {},
   "outputs": [],
   "source": [
    "class Book:\n",
    "    def __init__(self, title, pages):\n",
    "        self.title = title\n",
    "        self.pages = pages\n",
    "\n",
    "    def __str__(self):  # String representation\n",
    "        return f\"Book: {self.title}\"\n",
    "\n",
    "    def __len__(self):  # Define behavior for len()\n",
    "        return self.pages\n",
    "\n",
    "book = Book(\"Python Basics\", 300)\n",
    "print(str(book))  # Output: Book: Python Basics\n",
    "print(len(book))  # Output: 300"
   ]
  }
 ],
 "metadata": {
  "kernelspec": {
   "display_name": "Python 3 (ipykernel)",
   "language": "python",
   "name": "python3"
  },
  "language_info": {
   "codemirror_mode": {
    "name": "ipython",
    "version": 3
   },
   "file_extension": ".py",
   "mimetype": "text/x-python",
   "name": "python",
   "nbconvert_exporter": "python",
   "pygments_lexer": "ipython3",
   "version": "3.11.7"
  }
 },
 "nbformat": 4,
 "nbformat_minor": 5
}
