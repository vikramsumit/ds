{
 "cells": [
  {
   "cell_type": "code",
   "execution_count": 1,
   "id": "0cbe4ce4-26b7-4d82-b0ff-3460ceb32d3d",
   "metadata": {},
   "outputs": [],
   "source": [
    "empty_dict = {}\n",
    "\n",
    "student = {\n",
    "    \"name\": \"Alice\",\n",
    "    \"age\": 25,\n",
    "    \"grade\": \"A\"\n",
    "}\n",
    "\n",
    "person = dict(name=\"John\", age=30, city=\"New York\")"
   ]
  },
  {
   "cell_type": "code",
   "execution_count": 2,
   "id": "5ce491ea-10db-470b-8af4-235258637620",
   "metadata": {},
   "outputs": [
    {
     "name": "stdout",
     "output_type": "stream",
     "text": [
      "Alice\n",
      "25\n",
      "Not Found\n"
     ]
    }
   ],
   "source": [
    "print(student[\"name\"])  \n",
    "\n",
    "print(student.get(\"age\"))  \n",
    "print(student.get(\"height\", \"Not Found\"))  "
   ]
  },
  {
   "cell_type": "code",
   "execution_count": null,
   "id": "06e14feb-41d7-4867-9c49-df501bb088ef",
   "metadata": {},
   "outputs": [],
   "source": []
  }
 ],
 "metadata": {
  "kernelspec": {
   "display_name": "Python 3 (ipykernel)",
   "language": "python",
   "name": "python3"
  },
  "language_info": {
   "codemirror_mode": {
    "name": "ipython",
    "version": 3
   },
   "file_extension": ".py",
   "mimetype": "text/x-python",
   "name": "python",
   "nbconvert_exporter": "python",
   "pygments_lexer": "ipython3",
   "version": "3.11.7"
  }
 },
 "nbformat": 4,
 "nbformat_minor": 5
}
