{
 "cells": [
  {
   "cell_type": "code",
   "execution_count": 1,
   "id": "0cbe4ce4-26b7-4d82-b0ff-3460ceb32d3d",
   "metadata": {},
   "outputs": [],
   "source": [
    "empty_dict = {}\n",
    "\n",
    "student = {\n",
    "    \"name\": \"Raju\",\n",
    "    \"age\": 25,\n",
    "    \"grade\": \"A\"\n",
    "}\n",
    "\n",
    "person = dict(name=\"Babubhai\", age=30, city=\"Mumbai\")"
   ]
  },
  {
   "cell_type": "code",
   "execution_count": 2,
   "id": "5ce491ea-10db-470b-8af4-235258637620",
   "metadata": {},
   "outputs": [
    {
     "name": "stdout",
     "output_type": "stream",
     "text": [
      "Alice\n",
      "25\n",
      "Not Found\n"
     ]
    }
   ],
   "source": [
    "print(student[\"name\"])  \n",
    "\n",
    "print(student.get(\"age\"))  \n",
    "print(student.get(\"height\", \"Not Found\"))  "
   ]
  },
  {
   "cell_type": "code",
   "execution_count": 6,
   "id": "06e14feb-41d7-4867-9c49-df501bb088ef",
   "metadata": {},
   "outputs": [
    {
     "name": "stdout",
     "output_type": "stream",
     "text": [
      "name : Raju\n",
      "age : 26\n",
      "city : New York\n"
     ]
    }
   ],
   "source": [
    "student = {\"name\": \"Raju\", \"age\": 25, \"grade\": \"A\"}\n",
    "\n",
    "student[\"city\"] = \"Mumbai\"\n",
    "\n",
    "student[\"age\"] = 26\n",
    "\n",
    "student.pop(\"grade\")\n",
    "\n",
    "for key, value in student.items():\n",
    "    print(key, \":\", value)"
   ]
  },
  {
   "cell_type": "code",
   "execution_count": 4,
   "id": "f0a84b9d-ffba-46a2-beac-a9287e47b76c",
   "metadata": {},
   "outputs": [
    {
     "name": "stdout",
     "output_type": "stream",
     "text": [
      "{1: 1, 2: 4, 3: 9, 4: 16, 5: 25}\n"
     ]
    }
   ],
   "source": [
    "squares = {x: x**2 for x in range(1, 6)}\n",
    "print(squares)"
   ]
  },
  {
   "cell_type": "code",
   "execution_count": null,
   "id": "721068f3-07b5-4a6c-92ab-c4f918a824aa",
   "metadata": {},
   "outputs": [],
   "source": []
  }
 ],
 "metadata": {
  "kernelspec": {
   "display_name": "Python 3 (ipykernel)",
   "language": "python",
   "name": "python3"
  },
  "language_info": {
   "codemirror_mode": {
    "name": "ipython",
    "version": 3
   },
   "file_extension": ".py",
   "mimetype": "text/x-python",
   "name": "python",
   "nbconvert_exporter": "python",
   "pygments_lexer": "ipython3",
   "version": "3.11.7"
  }
 },
 "nbformat": 4,
 "nbformat_minor": 5
}
