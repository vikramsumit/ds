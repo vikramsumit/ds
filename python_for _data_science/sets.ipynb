{
 "cells": [
  {
   "cell_type": "code",
   "execution_count": 4,
   "id": "10ada3f0-e856-4733-9eb6-79ad0c114da4",
   "metadata": {},
   "outputs": [
    {
     "name": "stdout",
     "output_type": "stream",
     "text": [
      "set()\n",
      "{1, 2, 3, 4, 5}\n"
     ]
    }
   ],
   "source": [
    "empty_set = set()\n",
    "print(empty_set)"
   ]
  },
  {
   "cell_type": "code",
   "execution_count": 3,
   "id": "dd3b31c0-b9de-48f2-b0a7-2f8f64b5baea",
   "metadata": {},
   "outputs": [
    {
     "name": "stdout",
     "output_type": "stream",
     "text": [
      "{1, 2, 3, 4, 5}\n"
     ]
    },
    {
     "data": {
      "text/plain": [
       "set"
      ]
     },
     "execution_count": 3,
     "metadata": {},
     "output_type": "execute_result"
    }
   ],
   "source": [
    "numbers = {1, 2, 3, 4, 5}\n",
    "print(numbers)\n",
    "type(numbers)"
   ]
  },
  {
   "cell_type": "code",
   "execution_count": 6,
   "id": "6a457884-6f95-43de-bbc3-b3c111979f86",
   "metadata": {},
   "outputs": [],
   "source": [
    "mixed_set = {1, \"Hello\", 3.14, True}"
   ]
  },
  {
   "cell_type": "code",
   "execution_count": 5,
   "id": "68602b47-42fa-41fe-938c-87790b4895e8",
   "metadata": {},
   "outputs": [
    {
     "name": "stdout",
     "output_type": "stream",
     "text": [
      "{1, 2, 3, 4, 5}\n"
     ]
    }
   ],
   "source": [
    "unique_numbers = set([1, 2, 2, 3, 4, 4, 5])\n",
    "print(unique_numbers)  "
   ]
  },
  {
   "cell_type": "code",
   "execution_count": null,
   "id": "baed2d50-3db0-44a3-ab07-419f113bce54",
   "metadata": {},
   "outputs": [],
   "source": [
    "set1 = {1, 2, 3, 4}\n",
    "set2 = {3, 4, 5, 6}\n",
    "\n",
    "print(set1 | set2)\n",
    "print(set1.union(set2))\n",
    "\n",
    "print(set1 & set2)            \n",
    "print(set1.intersection(set2))\n",
    "\n",
    "# Difference – in set1 but not in set2\n",
    "print(set1 - set2)            # {1, 2}\n",
    "print(set1.difference(set2))  # same result\n",
    "\n",
    "# Symmetric Difference – in either set, but not both\n",
    "print(set1 ^ set2)                     # {1, 2, 5, 6}\n",
    "print(set1.symmetric_difference(set2))# same result"
   ]
  }
 ],
 "metadata": {
  "kernelspec": {
   "display_name": "Python 3 (ipykernel)",
   "language": "python",
   "name": "python3"
  },
  "language_info": {
   "codemirror_mode": {
    "name": "ipython",
    "version": 3
   },
   "file_extension": ".py",
   "mimetype": "text/x-python",
   "name": "python",
   "nbconvert_exporter": "python",
   "pygments_lexer": "ipython3",
   "version": "3.11.7"
  }
 },
 "nbformat": 4,
 "nbformat_minor": 5
}
