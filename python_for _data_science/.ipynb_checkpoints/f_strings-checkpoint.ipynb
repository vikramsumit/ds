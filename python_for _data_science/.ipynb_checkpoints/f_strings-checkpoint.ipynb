{
 "cells": [
  {
   "cell_type": "code",
   "execution_count": 1,
   "id": "4eaea6ef-5785-4892-9919-9afbfc8806c0",
   "metadata": {},
   "outputs": [
    {
     "name": "stdout",
     "output_type": "stream",
     "text": [
      "My name is Alice and I am 25 years old.\n"
     ]
    }
   ],
   "source": [
    "name = \"Alice\"\n",
    "age = 25\n",
    "print(\"My name is {} and I am {} years old.\".format(name, age))"
   ]
  },
  {
   "cell_type": "code",
   "execution_count": 2,
   "id": "a1b17dfd-c9bc-4a77-910c-2951e41d488d",
   "metadata": {},
   "outputs": [
    {
     "name": "stdout",
     "output_type": "stream",
     "text": [
      "Alice is learning Python\n",
      "Alice is learning Python\n"
     ]
    }
   ],
   "source": [
    "print(\"{0} is learning {1}\".format(\"Alice\", \"Python\"))  # Using positions\n",
    "print(\"{name} is learning {language}\".format(name=\"Alice\", language=\"Python\"))"
   ]
  },
  {
   "cell_type": "code",
   "execution_count": 3,
   "id": "15457f60-610b-4e59-85d4-fd4bdfcd49a5",
   "metadata": {},
   "outputs": [
    {
     "name": "stdout",
     "output_type": "stream",
     "text": [
      "My name is Alice and I am 25 years old.\n"
     ]
    }
   ],
   "source": [
    "name = \"Alice\"\n",
    "age = 25\n",
    "print(f\"My name is {name} and I am {age} years old.\")"
   ]
  },
  {
   "cell_type": "code",
   "execution_count": 4,
   "id": "dd9f5468-4ca3-4b09-b909-530ac6551c22",
   "metadata": {},
   "outputs": [
    {
     "name": "stdout",
     "output_type": "stream",
     "text": [
      "Sum of 5 and 10 is 15\n"
     ]
    }
   ],
   "source": [
    "a = 5\n",
    "b = 10\n",
    "print(f\"Sum of {a} and {b} is {a + b}\")"
   ]
  },
  {
   "cell_type": "code",
   "execution_count": 5,
   "id": "313f4a80-00c5-49d8-b4c8-ca95f39cbccd",
   "metadata": {},
   "outputs": [
    {
     "name": "stdout",
     "output_type": "stream",
     "text": [
      "Pi rounded to 2 decimal places: 3.14\n"
     ]
    }
   ],
   "source": [
    "pi = 3.14159\n",
    "print(f\"Pi rounded to 2 decimal places: {pi:.2f}\")"
   ]
  },
  {
   "cell_type": "code",
   "execution_count": 6,
   "id": "e82c056d-45dd-4a9c-9680-43feb02f3fa0",
   "metadata": {},
   "outputs": [
    {
     "name": "stdout",
     "output_type": "stream",
     "text": [
      "Python    \n",
      "    Python\n",
      "  Python  \n"
     ]
    }
   ],
   "source": [
    "print(f\"{'Python':<10}\")  # Left-align\n",
    "print(f\"{'Python':>10}\")  # Right-align\n",
    "print(f\"{'Python':^10}\")  # Center-align"
   ]
  },
  {
   "cell_type": "code",
   "execution_count": null,
   "id": "2200cb95-bdf8-4d95-ba49-0dd635cbd7d7",
   "metadata": {},
   "outputs": [],
   "source": []
  }
 ],
 "metadata": {
  "kernelspec": {
   "display_name": "Python 3 (ipykernel)",
   "language": "python",
   "name": "python3"
  },
  "language_info": {
   "codemirror_mode": {
    "name": "ipython",
    "version": 3
   },
   "file_extension": ".py",
   "mimetype": "text/x-python",
   "name": "python",
   "nbconvert_exporter": "python",
   "pygments_lexer": "ipython3",
   "version": "3.11.7"
  }
 },
 "nbformat": 4,
 "nbformat_minor": 5
}
