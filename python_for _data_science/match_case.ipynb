{
 "cells": [
  {
   "cell_type": "code",
   "execution_count": 1,
   "id": "658933c9-0c9f-4629-b095-ed2d3bf0d6cf",
   "metadata": {},
   "outputs": [],
   "source": [
    "code = 404"
   ]
  },
  {
   "cell_type": "code",
   "execution_count": 2,
   "id": "66123d58-3991-48af-bc5b-dc5f29f44f4a",
   "metadata": {},
   "outputs": [
    {
     "name": "stdout",
     "output_type": "stream",
     "text": [
      "End of Program\n",
      "OK\n",
      "Not Found\n"
     ]
    }
   ],
   "source": [
    "def http_status(code):\n",
    "    match code:\n",
    "        case 200:\n",
    "            return \"OK\"\n",
    "        case 400:\n",
    "            return \"Bad Request\"\n",
    "        case 404:\n",
    "            return \"Not Found\"\n",
    "        case 500:\n",
    "            return \"Internal Server Error\"\n",
    "        case _:\n",
    "            return \"Unknown Status\"\n",
    "print(\"End of Program\")\n",
    "\n",
    "print(http_status(200))  # Output: OK\n",
    "print(http_status(404))  # Output: Not Found"
   ]
  }
 ],
 "metadata": {
  "kernelspec": {
   "display_name": "Python 3 (ipykernel)",
   "language": "python",
   "name": "python3"
  },
  "language_info": {
   "codemirror_mode": {
    "name": "ipython",
    "version": 3
   },
   "file_extension": ".py",
   "mimetype": "text/x-python",
   "name": "python",
   "nbconvert_exporter": "python",
   "pygments_lexer": "ipython3",
   "version": "3.11.7"
  }
 },
 "nbformat": 4,
 "nbformat_minor": 5
}
