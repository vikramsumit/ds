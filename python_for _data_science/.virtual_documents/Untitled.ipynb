import json

data = {"name": "Alice", "age": 25, "city": "New York"}

json_string = json.dumps(data)
print(json_string)  # Output: {"name": "Alice", "age": 25, "city": "New York"}
print(type(json_string))  # <class 'str'>


with open("data.json", "w") as file:
    json.dump(data, file)


json_data = '{"name": "Alice", "age": 25, "city": "New York"}'

python_obj = json.loads(json_data)
print(python_obj)  # Output: {'name': 'Alice', 'age': 25, 'city': 'New York'}
print(type(python_obj))  # <class 'dict'>
