import numpy as np
import matplotlib.pyplot as plt

# Continuous uniform from 0 to 1
samples = np.random.uniform(0, 1, 1000)

plt.hist(samples, bins=50, density=True, alpha=0.6, color='skyblue')
plt.title("Continuous Uniform Distribution (0 to 1)")
plt.xlabel("Value")
plt.ylabel("Probability Density")
plt.grid(True)
plt.show()


from scipy.stats import binom

# Probability of exactly 6 heads in 10 tosses (p = 0.5)
prob = binom.pmf(k=6, n=10, p=0.5)
print(prob)  # Output: ~0.205



