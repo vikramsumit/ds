empty_dict = {}

student = {
    "name": "Alice",
    "age": 25,
    "grade": "A"
}

person = dict(name="John", age=30, city="New York")


print(student["name"])  

print(student.get("age"))  
print(student.get("height", "Not Found"))  



