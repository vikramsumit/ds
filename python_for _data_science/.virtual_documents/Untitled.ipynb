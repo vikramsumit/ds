empty_dict = {}

student = {
    "name": "Raju",
    "age": 25,
    "grade": "A"
}

person = dict(name="Babubhai", age=30, city="Mumbai")


print(student["name"])  

print(student.get("age"))  
print(student.get("height", "Not Found"))  


student = {"name": "Raju", "age": 25, "grade": "A"}

student["city"] = "Mumbai"

student["age"] = 26

student.pop("grade")

for key, value in student.items():
    print(key, ":", value)


squares = {x: x**2 for x in range(1, 6)}
print(squares)



