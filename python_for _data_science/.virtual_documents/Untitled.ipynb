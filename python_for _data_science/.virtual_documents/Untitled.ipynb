empty_set = set()
print(empty_set)


numbers = {1, 2, 3, 4, 5}
print(numbers)
type(numbers)


mixed_set = {1, "Hello", 3.14, True}


unique_numbers = set([1, 2, 2, 3, 4, 4, 5])
print(unique_numbers)  


set1 = {1, 2, 3, 4}
set2 = {3, 4, 5, 6}

print(set1 | set2)
print(set1.union(set2))

print(set1 & set2)            
print(set1.intersection(set2))

print(set1 - set2)            
print(set1.difference(set2))  

print(set1 ^ set2)                     # {1, 2, 5, 6}
print(set1.symmetric_difference(set2))



