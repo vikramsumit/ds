[expression for item in iterable]


squares = [x**2 for x in range(5)]
print(squares)  # Output: [0, 1, 4, 9, 16]


evens = [x for x in range(10) if x % 2 == 0]
print(evens)  # Output: [0, 2, 4, 6, 8]


numbers = ["Even" if x % 2 == 0 else "Odd" for x in range(5)]
print(numbers)  # Output: ['Even', 'Odd', 'Even', 'Odd', 'Even']
