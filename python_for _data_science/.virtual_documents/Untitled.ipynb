empty_dict = {}

student = {
    "name": "Raju",
    "age": 25,
    "grade": "A"
}

person = dict(name="Babubhai", age=30, city="Mumbai")


print(student["name"])  

print(student.get("age"))  
print(student.get("height", "Not Found"))  


student = {"name": "Raju", "age": 25, "grade": "A"}

# Adding a new key-value pair
student["city"] = "New York"

# Updating an existing value
student["age"] = 26

# Removing an item
student.pop("grade")

# Iterating over a dictionary
for key, value in student.items():
    print(key, ":", value)

# Output:
# name : Alice
# age : 26
# city : New York


# Creating a dictionary using comprehension
squares = {x: x**2 for x in range(1, 6)}
print(squares)  # {1: 1, 2: 4, 3: 9, 4: 16, 5: 25}



