empty_set = set()
print(empty_set)


numbers = {1, 2, 3, 4, 5}
print(numbers)
type(numbers)


mixed_set = {1, "Hello", 3.14, True}


unique_numbers = set([1, 2, 2, 3, 4, 4, 5])
print(unique_numbers)  



