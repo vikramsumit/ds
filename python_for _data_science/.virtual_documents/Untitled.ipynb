square = lambda x: x ** 2
print(square(5))  # Output: 25


numbers = [1, 2, 3, 4]
squared = list(map(lambda x: x**2, numbers))
print(squared)  # Output: [1, 4, 9, 16]


numbers = [1, 2, 3, 4, 5, 6]
evens = list(filter(lambda x: x % 2 == 0, numbers))
print(evens)  # Output: [2, 4, 6]


add = lambda x, y: x + y
print(add(3, 7))  # Output: 10


maximum = lambda x, y: x if x > y else y
print(maximum(10, 5))  # Output: 10


students = [("Alice", 85), ("Bob", 78), ("Charlie", 92)]
students.sort(key=lambda student: student[1])  # Sort by score
print(students)  # Output: [('Bob', 78), ('Alice', 85), ('Charlie', 92)]



