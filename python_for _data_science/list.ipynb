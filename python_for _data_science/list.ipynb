{
 "cells": [
  {
   "cell_type": "code",
   "execution_count": 1,
   "id": "1ac4b72e-4e72-480c-94f9-405ee9ad1390",
   "metadata": {},
   "outputs": [
    {
     "ename": "NameError",
     "evalue": "name 'iterable' is not defined",
     "output_type": "error",
     "traceback": [
      "\u001b[0;31m---------------------------------------------------------------------------\u001b[0m",
      "\u001b[0;31mNameError\u001b[0m                                 Traceback (most recent call last)",
      "Cell \u001b[0;32mIn[1], line 1\u001b[0m\n\u001b[0;32m----> 1\u001b[0m [expression \u001b[38;5;28;01mfor\u001b[39;00m item \u001b[38;5;129;01min\u001b[39;00m iterable]\n",
      "\u001b[0;31mNameError\u001b[0m: name 'iterable' is not defined"
     ]
    }
   ],
   "source": [
    "[expression for item in iterable]"
   ]
  },
  {
   "cell_type": "code",
   "execution_count": 2,
   "id": "7ffe3a59-6d9b-45e8-83df-6f780301d195",
   "metadata": {},
   "outputs": [
    {
     "name": "stdout",
     "output_type": "stream",
     "text": [
      "[0, 1, 4, 9, 16]\n"
     ]
    }
   ],
   "source": [
    "squares = [x**2 for x in range(5)]\n",
    "print(squares)  # Output: [0, 1, 4, 9, 16]"
   ]
  },
  {
   "cell_type": "code",
   "execution_count": 3,
   "id": "23e9abf6-52ac-43ef-a752-583105f5aa7f",
   "metadata": {},
   "outputs": [
    {
     "name": "stdout",
     "output_type": "stream",
     "text": [
      "[0, 2, 4, 6, 8]\n"
     ]
    }
   ],
   "source": [
    "evens = [x for x in range(10) if x % 2 == 0]\n",
    "print(evens)  # Output: [0, 2, 4, 6, 8]"
   ]
  },
  {
   "cell_type": "code",
   "execution_count": null,
   "id": "86921254-f5c9-4a9b-b926-d488dc383f85",
   "metadata": {},
   "outputs": [],
   "source": [
    "numbers = [\"Even\" if x % 2 == 0 else \"Odd\" for x in range(5)]\n",
    "print(numbers)  # Output: ['Even', 'Odd', 'Even', 'Odd', 'Even']"
   ]
  },
  {
   "cell_type": "code",
   "execution_count": 4,
   "id": "5995c2a7-8e7f-4271-9a9b-fddf26069397",
   "metadata": {},
   "outputs": [
    {
     "name": "stdout",
     "output_type": "stream",
     "text": [
      "[(0, 0), (0, 1), (0, 2), (1, 0), (1, 1), (1, 2)]\n"
     ]
    }
   ],
   "source": [
    "pairs = [(x, y) for x in range(2) for y in range(3)]\n",
    "print(pairs)  # Output: [(0, 0), (0, 1), (0, 2), (1, 0), (1, 1), (1, 2)]"
   ]
  },
  {
   "cell_type": "code",
   "execution_count": 5,
   "id": "837003ba-ef55-4b11-9984-023728ea0318",
   "metadata": {},
   "outputs": [
    {
     "name": "stdout",
     "output_type": "stream",
     "text": [
      "['HELLO', 'WORLD', 'PYTHON']\n"
     ]
    }
   ],
   "source": [
    "words = [\"hello\", \"world\", \"python\"]\n",
    "upper_words = [word.upper() for word in words]\n",
    "print(upper_words)  # Output: ['HELLO', 'WORLD', 'PYTHON']"
   ]
  },
  {
   "cell_type": "code",
   "execution_count": 6,
   "id": "51630910-e6e0-496c-b96d-b2e183e8cca9",
   "metadata": {},
   "outputs": [
    {
     "name": "stdout",
     "output_type": "stream",
     "text": [
      "[1, 2, 3, 4, 5, 6]\n"
     ]
    }
   ],
   "source": [
    "matrix = [[1, 2], [3, 4], [5, 6]]\n",
    "flattened = [num for row in matrix for num in row]\n",
    "print(flattened)  # Output: [1, 2, 3, 4, 5, 6]"
   ]
  },
  {
   "cell_type": "code",
   "execution_count": 7,
   "id": "d56b5a4d-5e35-456c-88c3-84cbf869a178",
   "metadata": {},
   "outputs": [
    {
     "name": "stdout",
     "output_type": "stream",
     "text": [
      "{1, 2, 3, 4}\n"
     ]
    }
   ],
   "source": [
    "unique_numbers = {x for x in [1, 2, 2, 3, 4, 4]}\n",
    "print(unique_numbers)  # Output: {1, 2, 3, 4}"
   ]
  },
  {
   "cell_type": "code",
   "execution_count": 8,
   "id": "e5b4d790-b9b7-4924-bc08-435d6f989739",
   "metadata": {},
   "outputs": [
    {
     "name": "stdout",
     "output_type": "stream",
     "text": [
      "{0: 0, 1: 1, 2: 4, 3: 9, 4: 16}\n"
     ]
    }
   ],
   "source": [
    "squared_dict = {x: x**2 for x in range(5)}\n",
    "print(squared_dict)  # Output: {0: 0, 1: 1, 2: 4, 3: 9, 4: 16}"
   ]
  },
  {
   "cell_type": "code",
   "execution_count": 9,
   "id": "82134b0b-b760-4420-bbcf-f0748d74d678",
   "metadata": {},
   "outputs": [
    {
     "name": "stdout",
     "output_type": "stream",
     "text": [
      "Loop time: 0.06645679473876953\n",
      "List Comprehension time: 0.034647226333618164\n"
     ]
    }
   ],
   "source": [
    "import time\n",
    "\n",
    "# Using a for loop\n",
    "start = time.time()\n",
    "squares_loop = []\n",
    "for x in range(10**6):\n",
    "    squares_loop.append(x**2)\n",
    "print(\"Loop time:\", time.time() - start)\n",
    "\n",
    "# Using list comprehension\n",
    "start = time.time()\n",
    "squares_comp = [x**2 for x in range(10**6)]\n",
    "print(\"List Comprehension time:\", time.time() - start)"
   ]
  },
  {
   "cell_type": "code",
   "execution_count": null,
   "id": "3562589d-cf9b-4022-8f1f-8b963a9fda43",
   "metadata": {},
   "outputs": [],
   "source": []
  }
 ],
 "metadata": {
  "kernelspec": {
   "display_name": "Python 3 (ipykernel)",
   "language": "python",
   "name": "python3"
  },
  "language_info": {
   "codemirror_mode": {
    "name": "ipython",
    "version": 3
   },
   "file_extension": ".py",
   "mimetype": "text/x-python",
   "name": "python",
   "nbconvert_exporter": "python",
   "pygments_lexer": "ipython3",
   "version": "3.11.7"
  }
 },
 "nbformat": 4,
 "nbformat_minor": 5
}
