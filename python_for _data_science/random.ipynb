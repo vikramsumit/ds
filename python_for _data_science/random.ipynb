{
 "cells": [
  {
   "cell_type": "code",
   "execution_count": 1,
   "id": "23bc92c6-a6c5-4388-894a-34da1fc91946",
   "metadata": {},
   "outputs": [
    {
     "name": "stdout",
     "output_type": "stream",
     "text": [
      "5D4QA28AJ\n",
      "DCY84JVGF\n",
      "GHJQQTJFU\n",
      "UIRZNAXRP\n",
      "GVOVDOW14\n",
      "IGGAJ2JOD\n",
      "OW8BPT7YP\n",
      "Z82PVAGYE\n",
      "4616KC6B4\n",
      "VBLE5H27U\n"
     ]
    }
   ],
   "source": [
    "import random\n",
    "import string\n",
    "\n",
    "def generate_code(length=9):\n",
    "    characters = string.ascii_uppercase + string.digits\n",
    "    return ''.join(random.choice(characters) \n",
    "for _ in range(length))\n",
    "\n",
    "for _ in range(10):\n",
    "    print(generate_code())"
   ]
  }
 ],
 "metadata": {
  "kernelspec": {
   "display_name": "Python 3 (ipykernel)",
   "language": "python",
   "name": "python3"
  },
  "language_info": {
   "codemirror_mode": {
    "name": "ipython",
    "version": 3
   },
   "file_extension": ".py",
   "mimetype": "text/x-python",
   "name": "python",
   "nbconvert_exporter": "python",
   "pygments_lexer": "ipython3",
   "version": "3.13.5"
  }
 },
 "nbformat": 4,
 "nbformat_minor": 5
}
