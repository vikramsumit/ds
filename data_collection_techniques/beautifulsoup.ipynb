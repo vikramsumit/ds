{
 "cells": [
  {
   "cell_type": "code",
   "execution_count": 1,
   "id": "50b7ba30-62d7-410a-a127-0d9c8ce80571",
   "metadata": {},
   "outputs": [],
   "source": [
    "import pandas as pd\n",
    "from bs4 import BeautifulSoup"
   ]
  },
  {
   "cell_type": "code",
   "execution_count": 2,
   "id": "d67e9bbb-84e7-4916-a802-414342237a1c",
   "metadata": {},
   "outputs": [],
   "source": [
    "with open (\"htmls/page1.html\") as f:\n",
    "    content = f.read()"
   ]
  },
  {
   "cell_type": "code",
   "execution_count": 3,
   "id": "644e8c65-d23d-492a-88a5-441f6d10f122",
   "metadata": {},
   "outputs": [],
   "source": [
    "soup = BeautifulSoup(content, \"html.parser\")"
   ]
  },
  {
   "cell_type": "code",
   "execution_count": 4,
   "id": "7c281869-51e7-4ac1-8570-3608c382c60c",
   "metadata": {},
   "outputs": [],
   "source": [
    "# soup.h1"
   ]
  },
  {
   "cell_type": "code",
   "execution_count": 5,
   "id": "04724b6e-3d81-4b33-bb7a-5abc6eaefd94",
   "metadata": {},
   "outputs": [],
   "source": [
    "# soup.h1.text"
   ]
  },
  {
   "cell_type": "code",
   "execution_count": 6,
   "id": "5bb967c1-3adf-4e80-87fb-966b551298b3",
   "metadata": {},
   "outputs": [],
   "source": [
    "h3s = soup.find_all(\"h3\")"
   ]
  },
  {
   "cell_type": "code",
   "execution_count": 7,
   "id": "66ecb04f-b903-477f-8b38-52d7fdc17f69",
   "metadata": {},
   "outputs": [],
   "source": [
    "# h3s"
   ]
  },
  {
   "cell_type": "code",
   "execution_count": 8,
   "id": "550ca28b-8660-4609-a5f9-d17f657c6cc5",
   "metadata": {},
   "outputs": [],
   "source": [
    "# for h3 in h3s:\n",
    "#     print(h3.find(\"a\")['title'])"
   ]
  },
  {
   "cell_type": "code",
   "execution_count": 9,
   "id": "d4023330-e6fb-499f-855f-b41e0bd3ca1e",
   "metadata": {},
   "outputs": [],
   "source": [
    "articles = soup.select(\"article.product_pod\")"
   ]
  },
  {
   "cell_type": "code",
   "execution_count": 10,
   "id": "467e89c1-5c64-485a-9398-8c6924c88df3",
   "metadata": {},
   "outputs": [],
   "source": [
    "# articles"
   ]
  },
  {
   "cell_type": "code",
   "execution_count": 18,
   "id": "97cda330-6b23-4867-a866-49324fb8fcce",
   "metadata": {},
   "outputs": [],
   "source": [
    "items = []\n",
    "for article in articles:\n",
    "    title = article.find(\"h3\").find(\"a\")[\"title\"]\n",
    "    price = article.select_one(\"p.price_color\").text.split(\"£\")[1]\n",
    "    rating_element = article.select_one(\"p.star-rating\")\n",
    "    rating = rating_element['class'][1]\n",
    "    # print(rating)\n",
    "    items.append([title,price,rating])"
   ]
  },
  {
   "cell_type": "code",
   "execution_count": 19,
   "id": "ac467f4f-3795-461c-9eee-09ab74fb3e8b",
   "metadata": {},
   "outputs": [
    {
     "data": {
      "text/plain": [
       "[['A Light in the Attic', '51.77', 'Three'],\n",
       " ['Tipping the Velvet', '53.74', 'One'],\n",
       " ['Soumission', '50.10', 'One'],\n",
       " ['Sharp Objects', '47.82', 'Four'],\n",
       " ['Sapiens: A Brief History of Humankind', '54.23', 'Five'],\n",
       " ['The Requiem Red', '22.65', 'One'],\n",
       " ['The Dirty Little Secrets of Getting Your Dream Job', '33.34', 'Four'],\n",
       " ['The Coming Woman: A Novel Based on the Life of the Infamous Feminist, Victoria Woodhull',\n",
       "  '17.93',\n",
       "  'Three'],\n",
       " ['The Boys in the Boat: Nine Americans and Their Epic Quest for Gold at the 1936 Berlin Olympics',\n",
       "  '22.60',\n",
       "  'Four'],\n",
       " ['The Black Maria', '52.15', 'One'],\n",
       " ['Starving Hearts (Triangular Trade Trilogy, #1)', '13.99', 'Two'],\n",
       " [\"Shakespeare's Sonnets\", '20.66', 'Four'],\n",
       " ['Set Me Free', '17.46', 'Five'],\n",
       " [\"Scott Pilgrim's Precious Little Life (Scott Pilgrim #1)\", '52.29', 'Five'],\n",
       " ['Rip it Up and Start Again', '35.02', 'Five'],\n",
       " ['Our Band Could Be Your Life: Scenes from the American Indie Underground, 1981-1991',\n",
       "  '57.25',\n",
       "  'Three'],\n",
       " ['Olio', '23.88', 'One'],\n",
       " ['Mesaerion: The Best Science Fiction Stories 1800-1849', '37.59', 'One'],\n",
       " ['Libertarianism for Beginners', '51.33', 'Two'],\n",
       " [\"It's Only the Himalayas\", '45.17', 'Two']]"
      ]
     },
     "execution_count": 19,
     "metadata": {},
     "output_type": "execute_result"
    }
   ],
   "source": [
    "items"
   ]
  },
  {
   "cell_type": "code",
   "execution_count": 20,
   "id": "ec267ab9-9398-4058-8c9e-1d8334e5e8a3",
   "metadata": {},
   "outputs": [],
   "source": [
    "df = pd.DataFrame(items)"
   ]
  },
  {
   "cell_type": "code",
   "execution_count": 21,
   "id": "2c1082b1-4919-4d68-aed3-6cef6adcb51e",
   "metadata": {},
   "outputs": [],
   "source": [
    "df = pd.DataFrame(items, columns= [\"Book\", \"Price\",\"rating\"])"
   ]
  },
  {
   "cell_type": "code",
   "execution_count": 22,
   "id": "7865861c-32ae-4bfc-8ef0-5dc27fd30948",
   "metadata": {},
   "outputs": [
    {
     "data": {
      "text/html": [
       "<div>\n",
       "<style scoped>\n",
       "    .dataframe tbody tr th:only-of-type {\n",
       "        vertical-align: middle;\n",
       "    }\n",
       "\n",
       "    .dataframe tbody tr th {\n",
       "        vertical-align: top;\n",
       "    }\n",
       "\n",
       "    .dataframe thead th {\n",
       "        text-align: right;\n",
       "    }\n",
       "</style>\n",
       "<table border=\"1\" class=\"dataframe\">\n",
       "  <thead>\n",
       "    <tr style=\"text-align: right;\">\n",
       "      <th></th>\n",
       "      <th>Book</th>\n",
       "      <th>Price</th>\n",
       "      <th>rating</th>\n",
       "    </tr>\n",
       "  </thead>\n",
       "  <tbody>\n",
       "    <tr>\n",
       "      <th>0</th>\n",
       "      <td>A Light in the Attic</td>\n",
       "      <td>51.77</td>\n",
       "      <td>Three</td>\n",
       "    </tr>\n",
       "    <tr>\n",
       "      <th>1</th>\n",
       "      <td>Tipping the Velvet</td>\n",
       "      <td>53.74</td>\n",
       "      <td>One</td>\n",
       "    </tr>\n",
       "    <tr>\n",
       "      <th>2</th>\n",
       "      <td>Soumission</td>\n",
       "      <td>50.10</td>\n",
       "      <td>One</td>\n",
       "    </tr>\n",
       "    <tr>\n",
       "      <th>3</th>\n",
       "      <td>Sharp Objects</td>\n",
       "      <td>47.82</td>\n",
       "      <td>Four</td>\n",
       "    </tr>\n",
       "    <tr>\n",
       "      <th>4</th>\n",
       "      <td>Sapiens: A Brief History of Humankind</td>\n",
       "      <td>54.23</td>\n",
       "      <td>Five</td>\n",
       "    </tr>\n",
       "    <tr>\n",
       "      <th>5</th>\n",
       "      <td>The Requiem Red</td>\n",
       "      <td>22.65</td>\n",
       "      <td>One</td>\n",
       "    </tr>\n",
       "    <tr>\n",
       "      <th>6</th>\n",
       "      <td>The Dirty Little Secrets of Getting Your Dream...</td>\n",
       "      <td>33.34</td>\n",
       "      <td>Four</td>\n",
       "    </tr>\n",
       "    <tr>\n",
       "      <th>7</th>\n",
       "      <td>The Coming Woman: A Novel Based on the Life of...</td>\n",
       "      <td>17.93</td>\n",
       "      <td>Three</td>\n",
       "    </tr>\n",
       "    <tr>\n",
       "      <th>8</th>\n",
       "      <td>The Boys in the Boat: Nine Americans and Their...</td>\n",
       "      <td>22.60</td>\n",
       "      <td>Four</td>\n",
       "    </tr>\n",
       "    <tr>\n",
       "      <th>9</th>\n",
       "      <td>The Black Maria</td>\n",
       "      <td>52.15</td>\n",
       "      <td>One</td>\n",
       "    </tr>\n",
       "    <tr>\n",
       "      <th>10</th>\n",
       "      <td>Starving Hearts (Triangular Trade Trilogy, #1)</td>\n",
       "      <td>13.99</td>\n",
       "      <td>Two</td>\n",
       "    </tr>\n",
       "    <tr>\n",
       "      <th>11</th>\n",
       "      <td>Shakespeare's Sonnets</td>\n",
       "      <td>20.66</td>\n",
       "      <td>Four</td>\n",
       "    </tr>\n",
       "    <tr>\n",
       "      <th>12</th>\n",
       "      <td>Set Me Free</td>\n",
       "      <td>17.46</td>\n",
       "      <td>Five</td>\n",
       "    </tr>\n",
       "    <tr>\n",
       "      <th>13</th>\n",
       "      <td>Scott Pilgrim's Precious Little Life (Scott Pi...</td>\n",
       "      <td>52.29</td>\n",
       "      <td>Five</td>\n",
       "    </tr>\n",
       "    <tr>\n",
       "      <th>14</th>\n",
       "      <td>Rip it Up and Start Again</td>\n",
       "      <td>35.02</td>\n",
       "      <td>Five</td>\n",
       "    </tr>\n",
       "    <tr>\n",
       "      <th>15</th>\n",
       "      <td>Our Band Could Be Your Life: Scenes from the A...</td>\n",
       "      <td>57.25</td>\n",
       "      <td>Three</td>\n",
       "    </tr>\n",
       "    <tr>\n",
       "      <th>16</th>\n",
       "      <td>Olio</td>\n",
       "      <td>23.88</td>\n",
       "      <td>One</td>\n",
       "    </tr>\n",
       "    <tr>\n",
       "      <th>17</th>\n",
       "      <td>Mesaerion: The Best Science Fiction Stories 18...</td>\n",
       "      <td>37.59</td>\n",
       "      <td>One</td>\n",
       "    </tr>\n",
       "    <tr>\n",
       "      <th>18</th>\n",
       "      <td>Libertarianism for Beginners</td>\n",
       "      <td>51.33</td>\n",
       "      <td>Two</td>\n",
       "    </tr>\n",
       "    <tr>\n",
       "      <th>19</th>\n",
       "      <td>It's Only the Himalayas</td>\n",
       "      <td>45.17</td>\n",
       "      <td>Two</td>\n",
       "    </tr>\n",
       "  </tbody>\n",
       "</table>\n",
       "</div>"
      ],
      "text/plain": [
       "                                                 Book  Price rating\n",
       "0                                A Light in the Attic  51.77  Three\n",
       "1                                  Tipping the Velvet  53.74    One\n",
       "2                                          Soumission  50.10    One\n",
       "3                                       Sharp Objects  47.82   Four\n",
       "4               Sapiens: A Brief History of Humankind  54.23   Five\n",
       "5                                     The Requiem Red  22.65    One\n",
       "6   The Dirty Little Secrets of Getting Your Dream...  33.34   Four\n",
       "7   The Coming Woman: A Novel Based on the Life of...  17.93  Three\n",
       "8   The Boys in the Boat: Nine Americans and Their...  22.60   Four\n",
       "9                                     The Black Maria  52.15    One\n",
       "10     Starving Hearts (Triangular Trade Trilogy, #1)  13.99    Two\n",
       "11                              Shakespeare's Sonnets  20.66   Four\n",
       "12                                        Set Me Free  17.46   Five\n",
       "13  Scott Pilgrim's Precious Little Life (Scott Pi...  52.29   Five\n",
       "14                          Rip it Up and Start Again  35.02   Five\n",
       "15  Our Band Could Be Your Life: Scenes from the A...  57.25  Three\n",
       "16                                               Olio  23.88    One\n",
       "17  Mesaerion: The Best Science Fiction Stories 18...  37.59    One\n",
       "18                       Libertarianism for Beginners  51.33    Two\n",
       "19                            It's Only the Himalayas  45.17    Two"
      ]
     },
     "execution_count": 22,
     "metadata": {},
     "output_type": "execute_result"
    }
   ],
   "source": [
    "df"
   ]
  },
  {
   "cell_type": "code",
   "execution_count": 16,
   "id": "6cafda03-51c0-4a3d-8a1e-ad5a2371a13e",
   "metadata": {},
   "outputs": [],
   "source": [
    "mat = []\n",
    "for article in articles:\n",
    "    title = article.find(\"h3\").find(\"a\")[\"title\"]\n",
    "    price = article.select_one(\"p.price_color\").text.split(\"£\")[1]\n",
    "    mat.append([price])"
   ]
  },
  {
   "cell_type": "code",
   "execution_count": 17,
   "id": "b91f81c2-a2f2-4b83-8e9b-fa051f785a6c",
   "metadata": {},
   "outputs": [
    {
     "data": {
      "text/plain": [
       "[['51.77'],\n",
       " ['53.74'],\n",
       " ['50.10'],\n",
       " ['47.82'],\n",
       " ['54.23'],\n",
       " ['22.65'],\n",
       " ['33.34'],\n",
       " ['17.93'],\n",
       " ['22.60'],\n",
       " ['52.15'],\n",
       " ['13.99'],\n",
       " ['20.66'],\n",
       " ['17.46'],\n",
       " ['52.29'],\n",
       " ['35.02'],\n",
       " ['57.25'],\n",
       " ['23.88'],\n",
       " ['37.59'],\n",
       " ['51.33'],\n",
       " ['45.17']]"
      ]
     },
     "execution_count": 17,
     "metadata": {},
     "output_type": "execute_result"
    }
   ],
   "source": [
    "mat"
   ]
  },
  {
   "cell_type": "code",
   "execution_count": 23,
   "id": "23d69c43-b945-41f1-8967-9c813efd09ba",
   "metadata": {},
   "outputs": [],
   "source": [
    "df.to_csv(\"data.csv\", index = False)"
   ]
  },
  {
   "cell_type": "code",
   "execution_count": null,
   "id": "b62f5b5b-2803-40be-addd-704296beed53",
   "metadata": {},
   "outputs": [],
   "source": []
  }
 ],
 "metadata": {
  "kernelspec": {
   "display_name": "Python 3 (ipykernel)",
   "language": "python",
   "name": "python3"
  },
  "language_info": {
   "codemirror_mode": {
    "name": "ipython",
    "version": 3
   },
   "file_extension": ".py",
   "mimetype": "text/x-python",
   "name": "python",
   "nbconvert_exporter": "python",
   "pygments_lexer": "ipython3",
   "version": "3.13.5"
  }
 },
 "nbformat": 4,
 "nbformat_minor": 5
}
