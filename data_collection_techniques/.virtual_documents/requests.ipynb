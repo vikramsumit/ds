import requests


# a = requests.get("https://makautwb.ac.in/")
# url = "ww.kjs.con"
# a = requestr.get("url")

response = requests.get("https://makautwb.ac.in/")
a = requests.get("https://books.toscrape.com/")


for i in range(1,51):
    a = requests.get(f"https://books.toscrape.com/catalogue/page-{i}.html")
    with open(f"htmls/page{i}.html", "w", encoding = "utf-8") as f:
        f.write(a.text)
        print(f"Downloaded page {i} successfully")


print(response.status_code)



