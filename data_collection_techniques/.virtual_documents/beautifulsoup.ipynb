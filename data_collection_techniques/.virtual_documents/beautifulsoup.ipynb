import pandas as pd
from bs4 import BeautifulSoup


with open ("htmls/page1.html") as f:
    content = f.read()


soup = BeautifulSoup(content, "html.parser")


# soup.h1


# soup.h1.text


h3s = soup.find_all("h3")


# h3s


# for h3 in h3s:
#     print(h3.find("a")['title'])


articles = soup.select("article.product_pod")


# articles


items = []
for article in articles:
    title = article.find("h3").find("a")["title"]
    price = article.select_one("p.price_color").text.split("£")[1]
    rating_element = article.select_one("p.star-rating")
    classes = rating_element['class'][1]
    print(classes)
    items.append([title,price,classes])


items


df = pd.DataFrame(items)


df = pd.DataFrame(items, columns= ["Book", "Price","classes"])


df


mat = []
for article in articles:
    title = article.find("h3").find("a")["title"]
    price = article.select_one("p.price_color").text.split("£")[1]
    mat.append([price])


mat






